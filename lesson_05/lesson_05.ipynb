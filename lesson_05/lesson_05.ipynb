{
 "cells": [
  {
   "cell_type": "markdown",
   "id": "9dfc6cc9-2593-4de0-92ab-b447a0a6b903",
   "metadata": {},
   "source": [
    "## Урок 5. Тестирование гипотез"
   ]
  },
  {
   "cell_type": "code",
   "execution_count": 1,
   "id": "b713d653-6ccb-4942-af52-3c9a59647cd5",
   "metadata": {},
   "outputs": [],
   "source": [
    "import numpy as np\n",
    "from scipy.stats import norm, t as t_stat, ttest_rel"
   ]
  },
  {
   "cell_type": "markdown",
   "id": "f164afdb-2e9e-4ee4-9b23-dc7a03faf90c",
   "metadata": {},
   "source": [
    "### Задача 1."
   ]
  },
  {
   "cell_type": "markdown",
   "id": "8cfba9f8-7be9-472a-8643-028c9d21e6eb",
   "metadata": {},
   "source": [
    "Когда используется критерий Стьюдента, а когда Z –критерий?"
   ]
  },
  {
   "cell_type": "markdown",
   "id": "acaf6229-f163-4ab9-891b-8b2b4115ef6a",
   "metadata": {},
   "source": [
    "Критерий Стьюдента используется для сравнения средних в группах, когда стандартное отклонение совокупности неизвестно, или размер выборки слишком мал (пусть будет n < 30). \n",
    "\n",
    "Z-критерий используются, когда известно стандартное отклонение совокупности и размер выборки n > 30."
   ]
  },
  {
   "cell_type": "markdown",
   "id": "912b1178-1285-499b-a5c7-41f53dc02782",
   "metadata": {},
   "source": [
    "### Задача 2."
   ]
  },
  {
   "cell_type": "markdown",
   "id": "2301186f-a7a3-496f-bd36-29c878ad9004",
   "metadata": {},
   "source": [
    "Проведите тест гипотезы. Утверждается, что шарики для подшипников, изготовленные автоматическим станком, имеют средний диаметр 17 мм. Используя односторонний критерий с α=0,05, проверить эту гипотезу, если в выборке из n=100 шариков средний диаметр оказался равным 17.5 мм, а дисперсия известна и равна 4 кв. мм."
   ]
  },
  {
   "cell_type": "markdown",
   "id": "328a66d2-2408-48f3-9502-dc3ad7e72a68",
   "metadata": {},
   "source": [
    "Раз дисперсия известна и выборка достаточно велика, будем использовать Z-тест. Нам дано:"
   ]
  },
  {
   "cell_type": "code",
   "execution_count": 2,
   "id": "14ce3a4c-d385-4428-b632-0b3726cc8f2b",
   "metadata": {},
   "outputs": [],
   "source": [
    "d1 = 17        # мм - средний диаметр всех изготовленных шариков\n",
    "d2 = 17.5      # мм - средний диаметр шариков в выборке\n",
    "D = 4          # мм^2 - дисперсия всех изготовленных шариков\n",
    "n = 100        # шт - размер выборки\n",
    "alpha = 0.05   # уровень значимости"
   ]
  },
  {
   "cell_type": "markdown",
   "id": "f21bed8d-22ba-4890-b3b7-2d70d9492761",
   "metadata": {},
   "source": [
    "Сначала определимся с нулевой и альтернативной гипотезами.\n",
    "\n",
    "- $H_0: d_1 = d_2$\n",
    "- $H_1: d_1 < d_2$ (выбрал одностороннюю гипотезу, как написано в условии)\n",
    "\n",
    "Теперь вычислим критическое значение z для распределения $d_1$:"
   ]
  },
  {
   "cell_type": "code",
   "execution_count": 3,
   "id": "7ecb5ed1-8046-4905-bd5d-7113f02d1e3b",
   "metadata": {},
   "outputs": [
    {
     "data": {
      "text/plain": [
       "1.6448536269514722"
      ]
     },
     "execution_count": 3,
     "metadata": {},
     "output_type": "execute_result"
    }
   ],
   "source": [
    "critical = norm.ppf(1-alpha)\n",
    "critical"
   ]
  },
  {
   "cell_type": "markdown",
   "id": "8ac7f1d0-ee00-4de5-8f3e-47a0dfb5ee51",
   "metadata": {},
   "source": [
    "Теперь рассчитаем z-критерий для наших показателей:\n",
    "\n",
    "$\\displaystyle z = \\frac{d_2 - d_1}{\\sqrt{D} / \\sqrt{n}} = \\frac{17.5 - 17}{\\sqrt{4} / \\sqrt{100}} = 2.5$"
   ]
  },
  {
   "cell_type": "code",
   "execution_count": 4,
   "id": "e3401d58-06bb-4e05-99c9-dbb24ab52116",
   "metadata": {},
   "outputs": [
    {
     "data": {
      "text/plain": [
       "2.5"
      ]
     },
     "execution_count": 4,
     "metadata": {},
     "output_type": "execute_result"
    }
   ],
   "source": [
    "z = (d2 - d1) / (np.sqrt(D) / np.sqrt(n))\n",
    "z"
   ]
  },
  {
   "cell_type": "markdown",
   "id": "722ce035-10ea-4ab7-b43f-781f551be673",
   "metadata": {},
   "source": [
    "Полученное значение превышает критическую отметку, а это значит, что у нас есть основания отклонить $H_0$.\n",
    "\n",
    "Проверим себя:"
   ]
  },
  {
   "cell_type": "code",
   "execution_count": 5,
   "id": "a5f86af5-ce35-48dd-b799-88ecebb9611a",
   "metadata": {},
   "outputs": [
    {
     "data": {
      "text/plain": [
       "0.006209665325776159"
      ]
     },
     "execution_count": 5,
     "metadata": {},
     "output_type": "execute_result"
    }
   ],
   "source": [
    "p_value = 1 - norm.cdf(z)\n",
    "p_value"
   ]
  },
  {
   "cell_type": "markdown",
   "id": "1c2c9c03-7611-40ea-aaa3-fe2d3b91b58c",
   "metadata": {},
   "source": [
    "p_value значительно меньше уровня значимости $\\alpha$, а значит, есть все основания отклонить $H_0$<br>\n",
    "**Вывод:** Автомат сбоит и средний диаметр шариков превышает 17 мм"
   ]
  },
  {
   "cell_type": "markdown",
   "id": "fb60abfa-ba8d-4b95-91c0-80b2241193e5",
   "metadata": {},
   "source": [
    "### Задача 3."
   ]
  },
  {
   "cell_type": "markdown",
   "id": "39008651-e19e-43ff-b7ff-17460f774027",
   "metadata": {},
   "source": [
    "Проведите тест гипотезы. Продавец утверждает, что средний вес пачки печенья составляет 200 г. Из партии извлечена выборка из 10 пачек. Вес каждой пачки составляет: 202, 203, 199, 197, 195, 201, 200, 204, 194, 190.\n",
    "\n",
    "Известно, что их веса распределены нормально. Верно ли утверждение продавца, если учитывать, что доверительная вероятность равна 99%? (Провести двусторонний тест.)"
   ]
  },
  {
   "cell_type": "markdown",
   "id": "83539c94-2ed4-4a6f-83f2-30b528446c81",
   "metadata": {},
   "source": [
    "Раз в выборке не так много значений, выберем для решения t-test (да и про дисперсию в тексте ничего не написано 🙂). Нам дано:"
   ]
  },
  {
   "cell_type": "code",
   "execution_count": 6,
   "id": "0b5e975b-6320-473b-9a14-bf1675bc98ad",
   "metadata": {},
   "outputs": [],
   "source": [
    "selection = np.array([202, 203, 199, 197, 195, 201, 200, 204, 194, 190])    # веса выбранных пачек\n",
    "alpha = 0.01                                                                # т.к. доверительная вероятность 0.99\n",
    "mu = 200                                                                    # по утверждению продавца\n",
    "n = 10                                                                      # количество выбранных пачек"
   ]
  },
  {
   "cell_type": "markdown",
   "id": "87bc80d7-ba5d-4a89-a1cd-5daece2922f9",
   "metadata": {},
   "source": [
    "Формулируем нулевую и альтернативную гипотезы:\n",
    "\n",
    "- $H_0: \\mu = 200$\n",
    "- $H_1: \\mu \\neq 200$"
   ]
  },
  {
   "cell_type": "markdown",
   "id": "d082d96a-354f-4516-b542-b2571a76fee9",
   "metadata": {},
   "source": [
    "Теперь посчитаем среднее и выборочную несмещенную дисперсию:\n",
    "\n",
    "$\\displaystyle \\overline{x} = \\frac{\\sum_{i=1}^n x}{n}$\n",
    "\n",
    "$\\displaystyle D = \\frac{\\sum_{i=1}^n(x - \\overline{x})}{n - 1}$"
   ]
  },
  {
   "cell_type": "code",
   "execution_count": 7,
   "id": "77ab30eb-24cc-42bf-96cd-0cc118a8b857",
   "metadata": {},
   "outputs": [
    {
     "data": {
      "text/plain": [
       "(198.5, 19.833333333333332)"
      ]
     },
     "execution_count": 7,
     "metadata": {},
     "output_type": "execute_result"
    }
   ],
   "source": [
    "avg_x = selection.mean()\n",
    "D = selection.var(ddof=1)\n",
    "\n",
    "avg_x, D"
   ]
  },
  {
   "cell_type": "markdown",
   "id": "e56287b8-9e2f-4748-ac86-731e99d4347d",
   "metadata": {},
   "source": [
    "Определим критические значение t-распределения (построим доверительный интервал):"
   ]
  },
  {
   "cell_type": "code",
   "execution_count": 8,
   "id": "f28485ee-3f88-43ca-b956-8c450827b295",
   "metadata": {},
   "outputs": [
    {
     "data": {
      "text/plain": [
       "(-3.24983554401537, 3.2498355440153697)"
      ]
     },
     "execution_count": 8,
     "metadata": {},
     "output_type": "execute_result"
    }
   ],
   "source": [
    "critical_1 = t_stat.ppf(alpha/2, 9)  # alpha/2 т.к. - двусторонняя гипотеза\n",
    "critical_2 = t_stat.ppf(1 - alpha/2, 9)\n",
    "critical_1, critical_2"
   ]
  },
  {
   "cell_type": "markdown",
   "id": "f3727134-bb36-477a-aef2-d1ef419c11c5",
   "metadata": {},
   "source": [
    "И проведем тест"
   ]
  },
  {
   "cell_type": "markdown",
   "id": "fd89925f-8178-4e4d-8624-07a3721d85eb",
   "metadata": {},
   "source": [
    "$\\displaystyle t = \\frac{\\overline{x} - \\mu}{\\sqrt{D} / \\sqrt{n}} = \\frac{198.5 - 200}{\\sqrt{19.83} / \\sqrt{10}} = -1.065$"
   ]
  },
  {
   "cell_type": "code",
   "execution_count": 9,
   "id": "ed7f3e34-fea0-4924-820f-fc37afa76c8e",
   "metadata": {},
   "outputs": [
    {
     "data": {
      "text/plain": [
       "-1.0651074037450896"
      ]
     },
     "execution_count": 9,
     "metadata": {},
     "output_type": "execute_result"
    }
   ],
   "source": [
    "t = (avg_x - mu) / (np.sqrt(D) / np.sqrt(n))\n",
    "t"
   ]
  },
  {
   "cell_type": "markdown",
   "id": "b4aec9db-c432-4e30-aac3-8fdf277a004b",
   "metadata": {},
   "source": [
    "Отклонение в весе не превышает критического значения, а значит оснований отклонить $H_0$ у нас нет. Но - проверим себя:"
   ]
  },
  {
   "cell_type": "code",
   "execution_count": 10,
   "id": "219ec94f-695d-4a8e-ac47-213b89cf7956",
   "metadata": {},
   "outputs": [
    {
     "data": {
      "text/plain": [
       "0.15728330176236427"
      ]
     },
     "execution_count": 10,
     "metadata": {},
     "output_type": "execute_result"
    }
   ],
   "source": [
    "t_stat.cdf(t, 9)"
   ]
  },
  {
   "cell_type": "markdown",
   "id": "4ce4ea0c-7c70-4983-8394-38d9677ff2aa",
   "metadata": {},
   "source": [
    "p_value значительно выше уровня $\\alpha / 2$. Следовательно нет оснований отвергать $H_0$.<br>\n",
    "**Вывод:** продавец не врет, и средний вес пачки - действительно 200 грамм"
   ]
  },
  {
   "cell_type": "markdown",
   "id": "5603f06c-c6fd-4a78-9346-37477dba8e0c",
   "metadata": {},
   "source": [
    "### Задача 4."
   ]
  },
  {
   "cell_type": "markdown",
   "id": "c6e40f4f-84ab-44e9-a011-89c2b5c80304",
   "metadata": {},
   "source": [
    "Есть ли статистически значимые различия в росте дочерей?<br>\n",
    "Рост матерей 172, 177, 158, 170, 178,175, 164, 160, 169, 165<br>\n",
    "Рост взрослых дочерей: 173, 175, 162, 174, 175, 168, 155, 170, 160, 163"
   ]
  },
  {
   "cell_type": "markdown",
   "id": "5aa4717c-a5c2-41e6-a6e8-e69e40c6f649",
   "metadata": {},
   "source": [
    "Прежде чем начать формулировать гипотезы, я хочу определиться с уровнем значимости.<br> \n",
    "Пусть $\\alpha = 0.05$  "
   ]
  },
  {
   "cell_type": "code",
   "execution_count": 11,
   "id": "a912ccb8-720c-4212-a636-bdfdfc96e3a2",
   "metadata": {},
   "outputs": [],
   "source": [
    "m_height = np.array([172, 177, 158, 170, 178, 175, 164, 160, 169, 165])\n",
    "d_height = np.array([173, 175, 162, 174, 175, 168, 155, 170, 160, 163])\n",
    "\n",
    "alpha = 0.05"
   ]
  },
  {
   "cell_type": "markdown",
   "id": "d957af57-f6e7-4efd-8168-9a3547149928",
   "metadata": {},
   "source": [
    "Так как нам неизвестно, в какую сторону может отклоняться рост, то сформулируем двустороннюю альтернативную гипотезу:\n",
    "\n",
    "- $H_0: m\\_height = d\\_height$\n",
    "- $H_1: m\\_height \\neq d\\_height$"
   ]
  },
  {
   "cell_type": "markdown",
   "id": "1b5e4d2b-7013-43c8-bc95-89feb41f9e0c",
   "metadata": {},
   "source": [
    "А раз выборки зависимые (ну - я надеюсь 🙂), то воспользуемся ttest_rel()"
   ]
  },
  {
   "cell_type": "code",
   "execution_count": 12,
   "id": "bdae84ac-dc63-4252-a68f-016625a6a920",
   "metadata": {},
   "outputs": [
    {
     "data": {
      "text/plain": [
       "TtestResult(statistic=0.6648478531431979, pvalue=0.5228168632983574, df=9)"
      ]
     },
     "execution_count": 12,
     "metadata": {},
     "output_type": "execute_result"
    }
   ],
   "source": [
    "ttest_rel(m_height, d_height)"
   ]
  },
  {
   "cell_type": "markdown",
   "id": "d2f5ad34-d7bb-40f8-b960-1d6a7552bc88",
   "metadata": {},
   "source": [
    "p_value гораздо больше $\\alpha/2$, следовательно, отклонять $H_0$ оснований нет.<br>\n",
    "**Вывод:** значимых различий в росте матерей и дочерей нет."
   ]
  }
 ],
 "metadata": {
  "kernelspec": {
   "display_name": "Python 3 (ipykernel)",
   "language": "python",
   "name": "python3"
  },
  "language_info": {
   "codemirror_mode": {
    "name": "ipython",
    "version": 3
   },
   "file_extension": ".py",
   "mimetype": "text/x-python",
   "name": "python",
   "nbconvert_exporter": "python",
   "pygments_lexer": "ipython3",
   "version": "3.9.16"
  }
 },
 "nbformat": 4,
 "nbformat_minor": 5
}
