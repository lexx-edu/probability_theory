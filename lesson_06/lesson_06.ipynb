{
 "cells": [
  {
   "cell_type": "markdown",
   "id": "1aefe029-00fd-451c-824e-0e4fc5369e12",
   "metadata": {},
   "source": [
    "## Урок 6. Сравнение долей. Построение доверительного интервала"
   ]
  },
  {
   "cell_type": "code",
   "execution_count": 1,
   "id": "436c31c8-f9cb-4bfa-a0ec-779967d9e297",
   "metadata": {},
   "outputs": [],
   "source": [
    "import numpy as np\n",
    "from scipy.stats import norm, t as t_stat"
   ]
  },
  {
   "cell_type": "markdown",
   "id": "0c830165-2f9b-44df-abb1-cd37759f3e19",
   "metadata": {},
   "source": [
    "### Задача 1."
   ]
  },
  {
   "cell_type": "markdown",
   "id": "91602c0f-c86f-45fc-83ef-bb1b83516ebc",
   "metadata": {},
   "source": [
    "Известно, что генеральная совокупность распределена нормально со средним квадратическим отклонением, равным 16. Найти доверительный интервал для оценки математического ожидания с надежностью 0.95, если выборочная средняя M = 80, а объем выборки n = 256."
   ]
  },
  {
   "cell_type": "markdown",
   "id": "85d66391-50f7-4f9f-a723-1415d414ced5",
   "metadata": {},
   "source": [
    "Что есть:"
   ]
  },
  {
   "cell_type": "code",
   "execution_count": 2,
   "id": "b80f2a22-c317-4e38-ac3a-4e0880a44fc8",
   "metadata": {},
   "outputs": [],
   "source": [
    "sigma = 16           # Среднее квадратическое отклонение\n",
    "alpha = 1 - 0.95     # Уровень значимости\n",
    "X = 80               # Выборочное среднее\n",
    "n = 256              # Размер выборки"
   ]
  },
  {
   "cell_type": "markdown",
   "id": "9b75adf8-eb62-431c-bd6a-bcc02f53f5a6",
   "metadata": {},
   "source": [
    "Чтобы найти доверительный интервал, в данном случае, воспользуемся z-статистикой, т.к. среднее квадратическое отклонение ГС нам известно:\n",
    "\n",
    "$\\displaystyle \\overline{X} \\pm z_{\\frac{\\alpha}{2}} \\cdot \\frac{\\sigma}{\\sqrt n}$\n",
    "\n",
    "Из всей формулы нам неизвестен только 1 показатель: $z_{\\alpha / 2}$. Найдем его:"
   ]
  },
  {
   "cell_type": "code",
   "execution_count": 3,
   "id": "d3fe9cc1-4451-4553-b944-50d91cdff797",
   "metadata": {},
   "outputs": [
    {
     "data": {
      "text/plain": [
       "-1.959963984540054"
      ]
     },
     "execution_count": 3,
     "metadata": {},
     "output_type": "execute_result"
    }
   ],
   "source": [
    "z = norm.ppf(alpha / 2)\n",
    "z"
   ]
  },
  {
   "cell_type": "markdown",
   "id": "2362a3ab-781c-4067-a7c8-5fa50f4d4691",
   "metadata": {},
   "source": [
    "Рассчитаем"
   ]
  },
  {
   "cell_type": "code",
   "execution_count": 4,
   "id": "9b87060f-b0d1-4e85-ac8e-8970be4c8a01",
   "metadata": {},
   "outputs": [
    {
     "data": {
      "text/plain": [
       "array([78.04, 80.  , 81.96])"
      ]
     },
     "execution_count": 4,
     "metadata": {},
     "output_type": "execute_result"
    }
   ],
   "source": [
    "left = X + z * (sigma / np.sqrt(n))\n",
    "right = X - z * (sigma / np.sqrt(n))\n",
    "\n",
    "np.around([left, X, right], 3)"
   ]
  },
  {
   "cell_type": "markdown",
   "id": "dace689c-79f6-43be-81aa-bb900a699c57",
   "metadata": {},
   "source": [
    "### Задача 2."
   ]
  },
  {
   "cell_type": "markdown",
   "id": "0e875c10-17b4-452d-8f2e-76da509dd9ed",
   "metadata": {},
   "source": [
    "В результате 10 независимых измерений некоторой величины X, выполненных с одинаковой точностью, получены опытные данные:\n",
    "\n",
    "6.9, 6.1, 6.2, 6.8, 7.5, 6.3, 6.4, 6.9, 6.7, 6.1\n",
    "\n",
    "Предполагая, что результаты измерений подчинены нормальному закону распределения вероятностей, оценить истинное значение величины X при помощи доверительного интервала, покрывающего это значение с доверительной вероятностью 0,95."
   ]
  },
  {
   "cell_type": "markdown",
   "id": "cc89299e-8f80-4880-a415-924cdcc50552",
   "metadata": {},
   "source": [
    "Все, что нам известно в этой задаче, это то, что чего-то измерили 10 раз и результаты этих измерений."
   ]
  },
  {
   "cell_type": "code",
   "execution_count": 5,
   "id": "607a7f7a-7225-4a05-8680-2fa3b67bb9aa",
   "metadata": {},
   "outputs": [],
   "source": [
    "measures = np.array([6.9, 6.1, 6.2, 6.8, 7.5, 6.3, 6.4, 6.9, 6.7, 6.1])\n",
    "alpha = 1 - 0.95"
   ]
  },
  {
   "cell_type": "markdown",
   "id": "c35c07ee-e4d7-4994-8715-b3ba4d5133b1",
   "metadata": {},
   "source": [
    "Измерений, прямо скажем немного, и параметры ГС неизвестны, поэтому, для построения доверительного интервала будем использовать t-статистику:\n",
    "\n",
    "$\\displaystyle \\overline{X} \\pm t_{\\frac{\\alpha}{2}} \\cdot \\frac{\\sigma}{\\sqrt n}$"
   ]
  },
  {
   "cell_type": "markdown",
   "id": "2ba11178-44c0-4b0e-b62e-48b5a3db5dc8",
   "metadata": {},
   "source": [
    "Посчитаем недостающие части (некоторые - исключительно для удобства)"
   ]
  },
  {
   "cell_type": "code",
   "execution_count": 6,
   "id": "9166f4a4-6549-40fe-988d-625d6f93fc86",
   "metadata": {},
   "outputs": [
    {
     "data": {
      "text/plain": [
       "-2.2621571627409915"
      ]
     },
     "execution_count": 6,
     "metadata": {},
     "output_type": "execute_result"
    }
   ],
   "source": [
    "X = measures.mean()\n",
    "n = measures.shape[0]\n",
    "SD = np.sqrt(measures.var(ddof=1))\n",
    "\n",
    "t = t_stat.ppf(alpha / 2, df=n-1)\n",
    "t"
   ]
  },
  {
   "cell_type": "code",
   "execution_count": 7,
   "id": "b1faf188-d247-4711-b986-55a583853369",
   "metadata": {},
   "outputs": [
    {
     "data": {
      "text/plain": [
       "array([6.268, 6.59 , 6.912])"
      ]
     },
     "execution_count": 7,
     "metadata": {},
     "output_type": "execute_result"
    }
   ],
   "source": [
    "left = X + t * (SD / np.sqrt(n))\n",
    "right = X - t * (SD / np.sqrt(n))\n",
    "\n",
    "np.around([left, X, right], 3)"
   ]
  },
  {
   "cell_type": "markdown",
   "id": "cb6492d3-7eb5-406f-98a5-07f3e2916473",
   "metadata": {},
   "source": [
    "### Задача 3."
   ]
  },
  {
   "cell_type": "markdown",
   "id": "bab667ec-af39-4c5c-bb82-0e5a475645ef",
   "metadata": {},
   "source": [
    "- Рост дочерей 175, 167, 154, 174, 178, 148, 160, 167, 169, 170\n",
    "- Рост матерей 178, 165, 165, 173, 168, 155, 160, 164, 178, 175\n",
    "\n",
    "Используя эти данные построить 95% доверительный интервал для разности среднего роста родителей и детей."
   ]
  },
  {
   "cell_type": "code",
   "execution_count": 8,
   "id": "348c0e6e-7707-4222-84f7-50333edc11d2",
   "metadata": {},
   "outputs": [],
   "source": [
    "m_height = np.around([178, 165, 165, 173, 168, 155, 160, 164, 178, 175])\n",
    "d_height = np.around([175, 167, 154, 174, 178, 148, 160, 167, 169, 170])\n",
    "\n",
    "alpha = 1 - 0.95"
   ]
  },
  {
   "cell_type": "markdown",
   "id": "c5bbb4a3-d48c-42b2-9096-402371b6a72a",
   "metadata": {},
   "source": [
    "Как обычно - измерений не так много, поэтому воспользуемся t-статистикой:\n",
    "\n",
    "$\\displaystyle \\Delta \\pm t_{\\frac{\\alpha}{2}} \\cdot S_{\\Delta}$\n",
    "\n",
    "где \n",
    "\n",
    "$\\displaystyle S_{\\Delta} = \\sqrt{\\frac{D}{n_m} + \\frac{D}{n_d}}$\n",
    "\n",
    "$\\displaystyle D = \\frac{1}{2}(D_m + D_d)$\n",
    "\n",
    "\\+ посчитаем, для удобства, некоторые показатели"
   ]
  },
  {
   "cell_type": "code",
   "execution_count": 9,
   "id": "1abf99ac-a4fb-4737-b8f0-c2bf10b8f5e3",
   "metadata": {},
   "outputs": [],
   "source": [
    "m_mean = m_height.mean()\n",
    "d_mean = d_height.mean()\n",
    "\n",
    "n_m = m_height.shape[0]\n",
    "n_d = d_height.shape[0]\n",
    "\n",
    "D_m = m_height.var(ddof=1)\n",
    "D_d = d_height.var(ddof=1)\n",
    "\n",
    "D = (D_m + D_d) / 2\n",
    "S = np.sqrt(D/n_m + D/n_d)\n",
    "delta = m_mean - d_mean\n",
    "\n",
    "t = t_stat.ppf(alpha / 2, df=n_m+n_d-2)"
   ]
  },
  {
   "cell_type": "markdown",
   "id": "296588a0-4a58-49df-bd75-e454472b6b28",
   "metadata": {},
   "source": [
    "Подставим в формулу:"
   ]
  },
  {
   "cell_type": "code",
   "execution_count": 10,
   "id": "00cf4398-623d-4793-a702-a2150b952a75",
   "metadata": {},
   "outputs": [
    {
     "data": {
      "text/plain": [
       "array([-6.268,  1.9  , 10.068])"
      ]
     },
     "execution_count": 10,
     "metadata": {},
     "output_type": "execute_result"
    }
   ],
   "source": [
    "left = delta + t * S\n",
    "right = delta - t * S\n",
    "\n",
    "np.around([left, delta, right], 3)"
   ]
  }
 ],
 "metadata": {
  "kernelspec": {
   "display_name": "Python 3 (ipykernel)",
   "language": "python",
   "name": "python3"
  },
  "language_info": {
   "codemirror_mode": {
    "name": "ipython",
    "version": 3
   },
   "file_extension": ".py",
   "mimetype": "text/x-python",
   "name": "python",
   "nbconvert_exporter": "python",
   "pygments_lexer": "ipython3",
   "version": "3.9.1"
  }
 },
 "nbformat": 4,
 "nbformat_minor": 5
}
