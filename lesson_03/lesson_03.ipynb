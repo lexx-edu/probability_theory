{
 "cells": [
  {
   "cell_type": "markdown",
   "id": "8c96d3ef-181a-4e82-8d9b-c4f70d369d21",
   "metadata": {},
   "source": [
    "## Урок 3. EDA (exploratory data analysis) или Разведочный анализ"
   ]
  },
  {
   "cell_type": "markdown",
   "id": "b0c82f6c-5bd4-4315-9ed9-c2c3be686f4a",
   "metadata": {},
   "source": [
    "**Задача 1.** Даны значения зарплат из выборки выпускников: 100, 80, 75, 77, 89, 33, 45, 25, 65, 17, 30, 24, 57, 55, 70, 75, 65, 84, 90, 150. Посчитать (желательно без использования статистических методов наподобие std, var, mean) среднее арифметическое, среднее квадратичное отклонение, смещенную и несмещенную оценки дисперсий для данной выборки.\n",
    "\n",
    "**Задача 2.** В первом ящике находится 8 мячей, из которых 5 - белые. Во втором ящике - 12 мячей, из которых 5 белых. Из первого ящика вытаскивают случайным образом два мяча, из второго - 4 мяча. Какова вероятность того, что 3 мяча белые?\n",
    "\n",
    "**Задача 3.** На соревновании по биатлону один из трех спортсменов стреляет и попадает в мишень. Вероятность попадания для первого спортсмена равна 0.9, для второго — 0.8, для третьего — 0.6. Найти вероятность того, что выстрел произведен: a). первым спортсменом б). вторым спортсменом в). третьим спортсменом.\n",
    "\n",
    "**Задача 4.** В университет на факультеты A и B поступило равное количество студентов, а на факультет C студентов поступило столько же, сколько на A и B вместе. Вероятность того, что студент факультета A сдаст первую сессию, равна 0.8. Для студента факультета B эта вероятность равна 0.7, а для студента факультета C - 0.9. Студент сдал первую сессию. Какова вероятность, что он учится: a). на факультете A б). на факультете B в). на факультете C?\n",
    "\n",
    "**Задача 5.** Устройство состоит из трех деталей. Для первой детали вероятность выйти из строя в первый месяц равна 0.1, для второй - 0.2, для третьей - 0.25. Какова вероятность того, что в первый месяц выйдут из строя: а). все детали б). только две детали в). хотя бы одна деталь г). от одной до двух деталей?"
   ]
  },
  {
   "cell_type": "code",
   "execution_count": 1,
   "id": "e2129e57-4ed7-47e2-81ed-90c3c619821e",
   "metadata": {},
   "outputs": [],
   "source": [
    "import numpy as np"
   ]
  },
  {
   "cell_type": "code",
   "execution_count": 2,
   "id": "cea6faf2-bf20-4ab1-9790-a824c2dd4544",
   "metadata": {},
   "outputs": [],
   "source": [
    "def combinations(k, n):\n",
    "    res = np.math.factorial(n) / (np.math.factorial(k) * np.math.factorial(n - k))\n",
    "    return res"
   ]
  },
  {
   "cell_type": "markdown",
   "id": "06de0b5a-9693-4544-b7af-9e2ec158562e",
   "metadata": {},
   "source": [
    "### Задача 01"
   ]
  },
  {
   "cell_type": "markdown",
   "id": "150aeaab-ec01-42b7-84ce-ecbdbc59f4fd",
   "metadata": {},
   "source": [
    "Даны значения зарплат из выборки выпускников: 100, 80, 75, 77, 89, 33, 45, 25, 65, 17, 30, 24, 57, 55, 70, 75, 65, 84, 90, 150. Посчитать (желательно без использования статистических методов наподобие std, var, mean) среднее арифметическое, среднее квадратичное отклонение, смещенную и несмещенную оценки дисперсий для данной выборки."
   ]
  },
  {
   "cell_type": "code",
   "execution_count": 3,
   "id": "96929831-cb99-494f-bfe5-cbe88e33a82b",
   "metadata": {},
   "outputs": [],
   "source": [
    "salary = np.array([100, 80, 75, 77, 89, 33, 45, 25, 65, 17, 30, 24, 57, 55, 70, 75, 65, 84, 90, 150])"
   ]
  },
  {
   "cell_type": "markdown",
   "id": "45caa017-49a9-4362-9039-71ad51823844",
   "metadata": {},
   "source": [
    "Для расчета среднего значения нужно сложить все составляющие массива и разделить на количество элементов:"
   ]
  },
  {
   "cell_type": "code",
   "execution_count": 4,
   "id": "dec8eadb-f296-4361-8eba-144b5ca93b4b",
   "metadata": {},
   "outputs": [
    {
     "data": {
      "text/plain": [
       "65.3"
      ]
     },
     "execution_count": 4,
     "metadata": {},
     "output_type": "execute_result"
    }
   ],
   "source": [
    "salary_mean = salary.sum() / salary.shape[0]\n",
    "salary_mean"
   ]
  },
  {
   "cell_type": "markdown",
   "id": "c2b3dde8-a49a-41bf-a453-ec596aef034f",
   "metadata": {},
   "source": [
    "Cреднее квадратичное отклонение считается как корень из дисперсии, поэтому, сначала посчитаем ее. Для этого, нужно посчитать сумму квадратов разности каждого значения ряда и среднего значения и разделить на количество значений n (ну или на n - 1 для несмещенной оценки):"
   ]
  },
  {
   "cell_type": "code",
   "execution_count": 5,
   "id": "725073a7-bba1-4000-a333-5e32a95cd952",
   "metadata": {},
   "outputs": [
    {
     "data": {
      "text/plain": [
       "950.11"
      ]
     },
     "execution_count": 5,
     "metadata": {},
     "output_type": "execute_result"
    }
   ],
   "source": [
    "salary_var_offset = ((salary - salary_mean) ** 2).sum() / salary.shape[0]\n",
    "salary_var_offset"
   ]
  },
  {
   "cell_type": "code",
   "execution_count": 6,
   "id": "e32d782d-ec33-4f8f-98f3-7829dfc80902",
   "metadata": {},
   "outputs": [
    {
     "data": {
      "text/plain": [
       "1000.1157894736842"
      ]
     },
     "execution_count": 6,
     "metadata": {},
     "output_type": "execute_result"
    }
   ],
   "source": [
    "salary_var = ((salary - salary_mean) ** 2).sum() / (salary.shape[0] - 1)\n",
    "salary_var"
   ]
  },
  {
   "cell_type": "markdown",
   "id": "65d798bc-875f-4d82-b75d-0b76d35c01aa",
   "metadata": {},
   "source": [
    "Ну и средние квадратичные отклонения, как корни от этих дисперсий:"
   ]
  },
  {
   "cell_type": "code",
   "execution_count": 7,
   "id": "954cd86c-80ba-4b0b-b5b1-c567d9138aca",
   "metadata": {},
   "outputs": [
    {
     "data": {
      "text/plain": [
       "30.823854398825596"
      ]
     },
     "execution_count": 7,
     "metadata": {},
     "output_type": "execute_result"
    }
   ],
   "source": [
    "std_offset = np.sqrt(salary_var_offset)\n",
    "std_offset"
   ]
  },
  {
   "cell_type": "code",
   "execution_count": 8,
   "id": "0bb0625a-b651-4298-a1e6-220878af1293",
   "metadata": {},
   "outputs": [
    {
     "data": {
      "text/plain": [
       "31.624607341019814"
      ]
     },
     "execution_count": 8,
     "metadata": {},
     "output_type": "execute_result"
    }
   ],
   "source": [
    "std = np.sqrt(salary_var)\n",
    "std"
   ]
  },
  {
   "cell_type": "markdown",
   "id": "14744706-71ee-4f95-97e8-b6f939bb94a6",
   "metadata": {},
   "source": [
    "### Задача 02"
   ]
  },
  {
   "cell_type": "markdown",
   "id": "3b829a47-66b3-44d1-bd1b-d3d30fd65155",
   "metadata": {},
   "source": [
    "В первом ящике находится 8 мячей, из которых 5 - белые. Во втором ящике - 12 мячей, из которых 5 белых. Из первого ящика вытаскивают случайным образом два мяча, из второго - 4 мяча. \n",
    "\n",
    "Какова вероятность того, что 3 мяча белые?"
   ]
  },
  {
   "cell_type": "markdown",
   "id": "31bf2aa1-eab9-4399-935c-1ad6c5248149",
   "metadata": {},
   "source": [
    "Сначала посмотрим, сколькими способами можно вытащить 3 белых шара из 4х из двух корзин:"
   ]
  },
  {
   "cell_type": "code",
   "execution_count": 9,
   "id": "2c7419b1-16dc-40f9-b45d-1a7d95f8e16f",
   "metadata": {},
   "outputs": [
    {
     "data": {
      "text/plain": [
       "4.0"
      ]
     },
     "execution_count": 9,
     "metadata": {},
     "output_type": "execute_result"
    }
   ],
   "source": [
    "combinations(3, 4)"
   ]
  },
  {
   "cell_type": "markdown",
   "id": "35c9c599-6e06-4ded-9810-88d7380c0bcf",
   "metadata": {},
   "source": [
    "Точно - только четырьмя:\n",
    "\n",
    "\n",
    "ББ БЧ<br>\n",
    "ББ ЧБ<br>\n",
    "БЧ ББ<br>\n",
    "ЧБ ББ"
   ]
  },
  {
   "cell_type": "markdown",
   "id": "7b3a15bd-83ed-4dfa-a5fc-c900fca4ea27",
   "metadata": {},
   "source": [
    "Теперь посчитаем вероятность выпадения каждой комбинации и сложим их:"
   ]
  },
  {
   "cell_type": "code",
   "execution_count": 10,
   "id": "3b03797f-d606-487d-a3ad-8c8ed67505e3",
   "metadata": {},
   "outputs": [
    {
     "data": {
      "text/plain": [
       "0.2867965367965368"
      ]
     },
     "execution_count": 10,
     "metadata": {},
     "output_type": "execute_result"
    }
   ],
   "source": [
    "ww_wb = 5/8 * 4/7 * 5/12 * 7/11\n",
    "ww_bw = 5/8 * 4/7 * 7/12 * 5/11\n",
    "wb_ww = 5/8 * 3/7 * 5/12 * 4/11\n",
    "bw_ww = 3/8 * 7/7 * 5/12 * 4/11\n",
    "\n",
    "ww_wb + ww_bw + wb_ww + bw_ww"
   ]
  },
  {
   "cell_type": "markdown",
   "id": "0dd40843-0e5e-4aff-81eb-0e3455418586",
   "metadata": {},
   "source": [
    "### Задача 03"
   ]
  },
  {
   "cell_type": "markdown",
   "id": "7f15822d-cd94-4ada-a62d-8283135dd55d",
   "metadata": {},
   "source": [
    "На соревновании по биатлону один из трех спортсменов стреляет и попадает в мишень. Вероятность попадания для первого спортсмена равна 0.9, для второго — 0.8, для третьего — 0.6. \n",
    "\n",
    "Найти вероятность того, что выстрел произведен: \n",
    "\n",
    "1. первым спортсменом\n",
    "1. вторым спортсменом \n",
    "1. третьим спортсменом."
   ]
  },
  {
   "cell_type": "markdown",
   "id": "674c8c5b-4d6f-4127-91e7-789c0c56993b",
   "metadata": {},
   "source": [
    "Здесь нужно определить событие А, если событие В произошло. Значит воспользуемся формулой Байеса\n",
    "\n",
    "$\\displaystyle P(B|A) = \\frac{P(A|B) \\cdot P(B)}{P(A)}$\n",
    "\n",
    "где \n",
    "\n",
    "- P(A|B) - вероятность, что выстрелил исследуемый спортсмен (в нашем случае - 1/3)\n",
    "- P(A) - общая вероятность попадания для одного из 3х спортсменов\n",
    "- P(B) - вероятность попадания исследуемого спортсмена"
   ]
  },
  {
   "cell_type": "markdown",
   "id": "0a608796-36d5-461e-b913-9bcaebc1225c",
   "metadata": {},
   "source": [
    "Так как знаменатель и вероятность выбора исследуемого спортсмена, для всех будут одинаковыми, посчитаем их:"
   ]
  },
  {
   "cell_type": "code",
   "execution_count": 11,
   "id": "042688d7-eb2a-4235-9b44-94f1459a21e6",
   "metadata": {},
   "outputs": [],
   "source": [
    "PA = 1/3 * 0.9 + 1/3 * 0.8 + 1/3 * 0.6\n",
    "PAB = 1/3"
   ]
  },
  {
   "cell_type": "markdown",
   "id": "d59827ce-230c-4877-8a56-b18eda061236",
   "metadata": {},
   "source": [
    "Вероятность, что выстрел сделал 1й спортсмен:"
   ]
  },
  {
   "cell_type": "code",
   "execution_count": 12,
   "id": "d3a4755d-eda5-48b8-95ea-94195b0f8930",
   "metadata": {},
   "outputs": [
    {
     "data": {
      "text/plain": [
       "0.391304347826087"
      ]
     },
     "execution_count": 12,
     "metadata": {},
     "output_type": "execute_result"
    }
   ],
   "source": [
    "PB = 0.9\n",
    "PAB * PB / PA"
   ]
  },
  {
   "cell_type": "markdown",
   "id": "f53dca94-be9e-43c5-a070-c81aa6f65ded",
   "metadata": {},
   "source": [
    "Что 2й:"
   ]
  },
  {
   "cell_type": "code",
   "execution_count": 13,
   "id": "660e4bc7-8d5f-46cb-9a7b-bd1a3ed74203",
   "metadata": {},
   "outputs": [
    {
     "data": {
      "text/plain": [
       "0.3478260869565218"
      ]
     },
     "execution_count": 13,
     "metadata": {},
     "output_type": "execute_result"
    }
   ],
   "source": [
    "PB = 0.8\n",
    "PAB * PB / PA"
   ]
  },
  {
   "cell_type": "markdown",
   "id": "a844c320-7966-4faf-b28b-32001fb1c347",
   "metadata": {},
   "source": [
    "И - 3й:"
   ]
  },
  {
   "cell_type": "code",
   "execution_count": 14,
   "id": "ea862ee4-43c5-4fbe-81e6-f352dd6ae045",
   "metadata": {},
   "outputs": [
    {
     "data": {
      "text/plain": [
       "0.2608695652173913"
      ]
     },
     "execution_count": 14,
     "metadata": {},
     "output_type": "execute_result"
    }
   ],
   "source": [
    "PB = 0.6\n",
    "PAB * PB / PA"
   ]
  },
  {
   "cell_type": "markdown",
   "id": "3031ce06-16be-4b0f-8a16-05861edf3220",
   "metadata": {},
   "source": [
    "### Задача 04"
   ]
  },
  {
   "cell_type": "markdown",
   "id": "7199e38f-0ebf-4d1c-942f-9b9f55ff4d5d",
   "metadata": {},
   "source": [
    "В университет на факультеты A и B поступило равное количество студентов, а на факультет C студентов поступило столько же, сколько на A и B вместе. Вероятность того, что студент факультета A сдаст первую сессию, равна 0.8. Для студента факультета B эта вероятность равна 0.7, а для студента факультета C - 0.9. Студент сдал первую сессию. \n",
    "\n",
    "Какова вероятность, что он учится: \n",
    "1. на факультете A \n",
    "1. на факультете B \n",
    "1. на факультете C"
   ]
  },
  {
   "cell_type": "markdown",
   "id": "98546f66-4eed-48a2-99dd-4efd76e47cd2",
   "metadata": {},
   "source": [
    "Задача похожа на предыдущую, здесь тоже будем использовать формулу Байеса.\n",
    "\n",
    "Где:\n",
    "- P(A|B) - вероятность, что студент окажется с одного из трех факультетов (в зависимости от их емкости)\n",
    "- P(A) - общая вероятность для для студента одного из трех факультетов сдать сессию\n",
    "- P(B) - вероятность сдать сессию студента конкретного факультета"
   ]
  },
  {
   "cell_type": "code",
   "execution_count": 15,
   "id": "34edfbd9-fdff-4f8a-83fb-cc8b945e77a7",
   "metadata": {},
   "outputs": [],
   "source": [
    "PA = 1/4 * 0.8 + 1/4 * 0.7 + 2/4 * 0.9"
   ]
  },
  {
   "cell_type": "markdown",
   "id": "672c8414-b57a-4098-9cd9-698af2abecb3",
   "metadata": {},
   "source": [
    "Вероятность, что студент с факультета А:"
   ]
  },
  {
   "cell_type": "code",
   "execution_count": 16,
   "id": "dc877305-f7e7-4d95-a488-d62ab0ec0723",
   "metadata": {},
   "outputs": [
    {
     "data": {
      "text/plain": [
       "0.24242424242424246"
      ]
     },
     "execution_count": 16,
     "metadata": {},
     "output_type": "execute_result"
    }
   ],
   "source": [
    "PAB = 1/4\n",
    "PB = 0.8\n",
    "\n",
    "PAB * PB / PA"
   ]
  },
  {
   "cell_type": "markdown",
   "id": "00519229-5612-47fe-a4be-8604d45b7a9d",
   "metadata": {},
   "source": [
    "Что с B:"
   ]
  },
  {
   "cell_type": "code",
   "execution_count": 17,
   "id": "77da71eb-d978-4c72-876d-77899788dec9",
   "metadata": {},
   "outputs": [
    {
     "data": {
      "text/plain": [
       "0.21212121212121213"
      ]
     },
     "execution_count": 17,
     "metadata": {},
     "output_type": "execute_result"
    }
   ],
   "source": [
    "PAB = 1/4\n",
    "PB = 0.7\n",
    "\n",
    "PAB * PB / PA"
   ]
  },
  {
   "cell_type": "markdown",
   "id": "9b08171a-afa0-4317-942f-be5f37737d27",
   "metadata": {},
   "source": [
    "Что с С:"
   ]
  },
  {
   "cell_type": "code",
   "execution_count": 18,
   "id": "c1393ff1-4074-472b-9bca-853f7f1252e4",
   "metadata": {},
   "outputs": [
    {
     "data": {
      "text/plain": [
       "0.5454545454545455"
      ]
     },
     "execution_count": 18,
     "metadata": {},
     "output_type": "execute_result"
    }
   ],
   "source": [
    "PAB = 2/4\n",
    "PB = 0.9\n",
    "\n",
    "PAB * PB / PA"
   ]
  },
  {
   "cell_type": "markdown",
   "id": "92db59b4-f962-4991-a756-fdcdc901e210",
   "metadata": {},
   "source": [
    "### Задача 05"
   ]
  },
  {
   "cell_type": "markdown",
   "id": "9d8b6acb-137e-40ac-99b1-88e35887c087",
   "metadata": {},
   "source": [
    "Устройство состоит из трех деталей. Для первой детали вероятность выйти из строя в первый месяц равна 0.1, для второй - 0.2, для третьей - 0.25. \n",
    "\n",
    "Какова вероятность того, что в первый месяц выйдут из строя: \n",
    "1. все детали \n",
    "1. только две детали \n",
    "1. хотя бы одна деталь \n",
    "1. от одной до двух деталей?"
   ]
  },
  {
   "cell_type": "code",
   "execution_count": 19,
   "id": "4a938f2c-64d3-4ed6-8138-b2829389784a",
   "metadata": {},
   "outputs": [],
   "source": [
    "x1 = 0.1\n",
    "x2 = 0.2\n",
    "x3 = 0.25"
   ]
  },
  {
   "cell_type": "markdown",
   "id": "11b56144-04ec-4225-b324-1d5b47ab99fe",
   "metadata": {},
   "source": [
    "Вероятность, что в первый месяц выйдут из строя все детали найти просто - нужно все вероятности перемножить:"
   ]
  },
  {
   "cell_type": "code",
   "execution_count": 20,
   "id": "196c6791-c1df-42a8-80a8-318b96758a3e",
   "metadata": {},
   "outputs": [
    {
     "data": {
      "text/plain": [
       "0.005000000000000001"
      ]
     },
     "execution_count": 20,
     "metadata": {},
     "output_type": "execute_result"
    }
   ],
   "source": [
    "x1 * x2 * x3"
   ]
  },
  {
   "cell_type": "markdown",
   "id": "517df05f-28fa-4fee-8afe-2e825e8bd9e8",
   "metadata": {},
   "source": [
    "Для подсчета вероятности выхода из строя двух деталей, их нужно скомбинировать в разных группах и сложить вероятности наступления такого события. А выйти из строоя они могут вот такими способами (0 - хорошая деталь, 1 - вышедшая из строя)\n",
    "\n",
    "- 011\n",
    "- 101\n",
    "- 110"
   ]
  },
  {
   "cell_type": "code",
   "execution_count": 21,
   "id": "64bad8a4-bce0-4569-b692-65023b3ed4a4",
   "metadata": {},
   "outputs": [
    {
     "data": {
      "text/plain": [
       "0.09500000000000001"
      ]
     },
     "execution_count": 21,
     "metadata": {},
     "output_type": "execute_result"
    }
   ],
   "source": [
    "x2x3 = x2 * x3\n",
    "x1x3 = x1 * x3\n",
    "x1x2 = x1 * x2\n",
    "\n",
    "x2x3 + x1x3 + x1x2"
   ]
  },
  {
   "cell_type": "markdown",
   "id": "bcc37002-88b6-4ee2-a6f2-4a2d0949d95f",
   "metadata": {},
   "source": [
    "Вероятность выхода хотя бы одной детали тоже равна сумме вероятностей трех исходов. А так как такая вероятность для каждой детали уже известна, сложим:"
   ]
  },
  {
   "cell_type": "code",
   "execution_count": 22,
   "id": "0f05ab07-ab42-4de4-8204-e8a26cf2befe",
   "metadata": {},
   "outputs": [
    {
     "data": {
      "text/plain": [
       "0.55"
      ]
     },
     "execution_count": 22,
     "metadata": {},
     "output_type": "execute_result"
    }
   ],
   "source": [
    "x1 + x2 + x3"
   ]
  },
  {
   "cell_type": "markdown",
   "id": "63cfdc27-97b1-4404-84d1-c5298a63831e",
   "metadata": {},
   "source": [
    "А вот над вероятностью выхода из строя от 1 до 2 деталей - надо поломать голову 🙂.\n",
    "Пока в нее приходит только объединить два предыдущих пункта. И рассматриваемый набор событий, тогда, будет таким:\n",
    "\n",
    "- 011\n",
    "- 101\n",
    "- 110\n",
    "- 001\n",
    "- 010\n",
    "- 100"
   ]
  },
  {
   "cell_type": "code",
   "execution_count": 23,
   "id": "088d558c-486c-414e-b220-53808d227a5a",
   "metadata": {},
   "outputs": [
    {
     "data": {
      "text/plain": [
       "0.645"
      ]
     },
     "execution_count": 23,
     "metadata": {},
     "output_type": "execute_result"
    }
   ],
   "source": [
    "x2x3 + x1x3 + x1x2 + x1 + x2 + x3"
   ]
  }
 ],
 "metadata": {
  "kernelspec": {
   "display_name": "Python 3 (ipykernel)",
   "language": "python",
   "name": "python3"
  },
  "language_info": {
   "codemirror_mode": {
    "name": "ipython",
    "version": 3
   },
   "file_extension": ".py",
   "mimetype": "text/x-python",
   "name": "python",
   "nbconvert_exporter": "python",
   "pygments_lexer": "ipython3",
   "version": "3.9.16"
  }
 },
 "nbformat": 4,
 "nbformat_minor": 5
}
