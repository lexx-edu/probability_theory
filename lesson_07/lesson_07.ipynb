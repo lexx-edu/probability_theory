{
 "cells": [
  {
   "cell_type": "markdown",
   "id": "32fbae50-2470-4f32-bd5e-8ff20a7ba71f",
   "metadata": {},
   "source": [
    "## Урок 7. Непараметрические тесты"
   ]
  },
  {
   "cell_type": "markdown",
   "id": "a3c507e1-a21b-4c56-86f2-b2b774ba8d10",
   "metadata": {},
   "source": [
    "Все тесты, кроме теста в Задаче 5 проверяют \"одинаковость\" распределения, поэтому гипотезы сформулированы именно таким образом."
   ]
  },
  {
   "cell_type": "code",
   "execution_count": 1,
   "id": "99784866-bee8-4367-8c2b-b73bfc6a8e6a",
   "metadata": {},
   "outputs": [],
   "source": [
    "import numpy as np\n",
    "from scipy.stats import mannwhitneyu, friedmanchisquare, wilcoxon, kruskal, t as t_stat"
   ]
  },
  {
   "cell_type": "markdown",
   "id": "24112e63-2160-43a7-bc2e-ba7afaa83037",
   "metadata": {},
   "source": [
    "### Задача 1."
   ]
  },
  {
   "cell_type": "markdown",
   "id": "51e8a431-f2f8-4e9d-8223-7caff9613a9f",
   "metadata": {
    "tags": []
   },
   "source": [
    "Даны две независимые выборки. Не соблюдается условие нормальности \n",
    "- x1 = [380, 420, 290]\n",
    "- y1 = [140, 360, 200, 900]\n",
    "\n",
    "Сделайте вывод по результатам, полученным с помощью функции, имеются ли статистические различия между группами?"
   ]
  },
  {
   "cell_type": "markdown",
   "id": "8b54dac9-333b-4909-a006-6557539a8133",
   "metadata": {},
   "source": [
    "Ну раз выборки независимые, условия нормальности не соблюдаются, и в них - разное количество наблюдений, то попробуем использовать критерий Манна-Витни.\n",
    "\n",
    "Сформулируем гипотезы:"
   ]
  },
  {
   "cell_type": "markdown",
   "id": "67b38e45-2d64-46fe-89c1-8974bb042e34",
   "metadata": {},
   "source": [
    "$H_0: F(X_1) = F(Y_1)$\n",
    "\n",
    "$H_1: F(X_1) \\neq F(Y_1)$\n",
    "\n",
    "где F - функция распределения"
   ]
  },
  {
   "cell_type": "markdown",
   "id": "dc9c3f52-8c79-4392-96e2-634b4880a1ce",
   "metadata": {},
   "source": [
    "Определим уровень значимости $\\alpha = 0.05$"
   ]
  },
  {
   "cell_type": "code",
   "execution_count": 2,
   "id": "64ff0b45-6c26-4022-b076-9413ba8ca625",
   "metadata": {},
   "outputs": [
    {
     "data": {
      "text/plain": [
       "MannwhitneyuResult(statistic=8.0, pvalue=0.6285714285714286)"
      ]
     },
     "execution_count": 2,
     "metadata": {},
     "output_type": "execute_result"
    }
   ],
   "source": [
    "X1 = np.array([380, 420, 290])\n",
    "Y1 = np.array([140, 360, 200, 900])\n",
    "\n",
    "mannwhitneyu(X1, Y1)"
   ]
  },
  {
   "cell_type": "markdown",
   "id": "a06b6062-8dfb-4095-b1f5-4f0acf447c34",
   "metadata": {},
   "source": [
    "p_value значительно превышает $\\alpha, =>$ нет оснований отвергать нулевую гипотезу.<br>\n",
    "**Вывод:** статистически значимых различий в выборках не наблюдается."
   ]
  },
  {
   "cell_type": "markdown",
   "id": "be6f18f8-85b9-4c33-9362-b44fd1fcf3ea",
   "metadata": {},
   "source": [
    "### Задача 2."
   ]
  },
  {
   "cell_type": "markdown",
   "id": "10e045b1-4ee8-4cb1-8fde-8abe5320e3ef",
   "metadata": {},
   "source": [
    "Исследовалось влияние препарата на уровень давления пациентов. Сначала измерялось давление до приема препарата, потом через 10 минут и через 30 минут. \n",
    "\n",
    "Есть ли статистически значимые различия между измерениями давления?<br>\n",
    "В выборках не соблюдается условие нормальности.\n",
    "\n",
    "- 1е измерение до приема препарата: 150, 160, 165, 145, 155\n",
    "- 2е измерение через 10 минут: 140, 155, 150, 130, 135\n",
    "- 3е измерение через 30 минут: 130, 130, 120, 130, 125"
   ]
  },
  {
   "cell_type": "markdown",
   "id": "af271d53-34b6-4193-9749-f8829d5f7b74",
   "metadata": {},
   "source": [
    "Здесь даны 3 зависимые выборки повторных исследований, без соблюдения условий нормальности $=>$ будем применять тест Фридмана. \n",
    "\n",
    "Сформулируем гипотезы:\n",
    "\n",
    "$H_0: F(X_1) = F(Y_1)$\n",
    "\n",
    "$H_1: F(X_1) \\neq F(Y_1)$\n",
    "\n",
    "где F - функция распределения"
   ]
  },
  {
   "cell_type": "markdown",
   "id": "0af4ad13-622c-4bcd-af9d-94e795c3f395",
   "metadata": {},
   "source": [
    "Определим уровень значимости $\\alpha = 0.05$"
   ]
  },
  {
   "cell_type": "code",
   "execution_count": 3,
   "id": "298ecffd-7579-4023-9e50-322018b2f1de",
   "metadata": {},
   "outputs": [
    {
     "data": {
      "text/plain": [
       "FriedmanchisquareResult(statistic=9.578947368421062, pvalue=0.00831683351100441)"
      ]
     },
     "execution_count": 3,
     "metadata": {},
     "output_type": "execute_result"
    }
   ],
   "source": [
    "X1 = np.array([150, 160, 165, 145, 155])\n",
    "X2 = np.array([140, 155, 150, 130, 135])\n",
    "X3 = np.array([130, 130, 120, 130, 125])\n",
    "\n",
    "friedmanchisquare(X1, X2, X3)"
   ]
  },
  {
   "cell_type": "markdown",
   "id": "3f399ed4-9ad3-4623-8b8b-6399298ee960",
   "metadata": {},
   "source": [
    "p_value ниже уровня значимости, следовательно есть все основагия отвергнуть нулевую гипотезу.<br>\n",
    "**Вывод:** статистические различия между выборками есть. Значит препарат - оказывает влияние."
   ]
  },
  {
   "cell_type": "markdown",
   "id": "3789d38f-54e2-4ff8-b1e7-b0dba835a411",
   "metadata": {},
   "source": [
    "### Задача 3."
   ]
  },
  {
   "cell_type": "markdown",
   "id": "d995780b-3d7c-4092-bcae-5026e4ff187c",
   "metadata": {},
   "source": [
    "Сравните 1 и 2 е измерения из задачи 2, предполагая, что 3го измерения через 30 минут не было. \n",
    "\n",
    "Есть ли статистически значимые различия между измерениями давления?"
   ]
  },
  {
   "cell_type": "markdown",
   "id": "a4cdd592-bf3f-440d-a007-e902649c74aa",
   "metadata": {},
   "source": [
    "Здесь мы имеем дело с двумя зависимыми выборками (ну и как обычно - даже без намека на нормальность распределения), а значит будем использовать критерий Уилкоксона.\n",
    "\n",
    "Сформулируем гипотезы:\n",
    "\n",
    "$H_0: F(X_1) = F(Y_1)$\n",
    "\n",
    "$H_1: F(X_1) \\neq F(Y_1)$\n",
    "\n",
    "где F - функция распределения"
   ]
  },
  {
   "cell_type": "markdown",
   "id": "0cc2b7b8-de17-4cff-aaca-983fb9b17bad",
   "metadata": {},
   "source": [
    "Определим уровень значимости $\\alpha = 0.05$"
   ]
  },
  {
   "cell_type": "code",
   "execution_count": 4,
   "id": "58bba575-d05d-4939-9f83-44dbbca1edb7",
   "metadata": {},
   "outputs": [
    {
     "data": {
      "text/plain": [
       "WilcoxonResult(statistic=0.0, pvalue=0.0625)"
      ]
     },
     "execution_count": 4,
     "metadata": {},
     "output_type": "execute_result"
    }
   ],
   "source": [
    "X1 = np.array([150, 160, 165, 145, 155])\n",
    "X2 = np.array([140, 155, 150, 130, 135])\n",
    "\n",
    "wilcoxon(X1, X2)"
   ]
  },
  {
   "cell_type": "markdown",
   "id": "b812a69f-ba34-4e2d-a720-3937ae839756",
   "metadata": {},
   "source": [
    "p_value превышает уровень значимости, следовательно, оснований отвергать нулевую гипотезу нет.<br>\n",
    "**Вывод:** статистически значимых различий не выявлено. Значит, при текущих условиях препарат не работает"
   ]
  },
  {
   "cell_type": "markdown",
   "id": "27317439-a413-4a0a-b9b5-0907654205c6",
   "metadata": {},
   "source": [
    "### Задача 4."
   ]
  },
  {
   "cell_type": "markdown",
   "id": "c884779c-8b79-419c-b819-49d9215292bf",
   "metadata": {},
   "source": [
    "Даны 3 группы учеников плавания. Не соблюдается условие нормальности. Время на 50 метров, в группах распределяется так:\n",
    "1. 56, 60, 62, 55, 71, 67, 59, 58, 64, 67\n",
    "2. 57, 58, 69, 48, 72, 70, 68, 71, 50, 53\n",
    "3. 57, 67, 49, 48, 47, 55, 66, 51, 54\n",
    "\n",
    "Есть ли статистически значимые различия между группами?"
   ]
  },
  {
   "cell_type": "markdown",
   "id": "57ec943d-f021-4489-b68a-bc417ee70686",
   "metadata": {},
   "source": [
    "Здесь есть несколько независимых групп, без соблюдения условий нормальности. Значит будем использовать тест Краскала-Уоллиса.\n",
    "\n",
    "Сформулируем гипотезы:"
   ]
  },
  {
   "cell_type": "markdown",
   "id": "bf03358e-5a9e-4338-a3c2-aa5adc107b7d",
   "metadata": {},
   "source": [
    "$H_0: F(X_1) = F(Y_1)$\n",
    "\n",
    "$H_1: F(X_1) \\neq F(Y_1)$\n",
    "\n",
    "где F - функция распределения"
   ]
  },
  {
   "cell_type": "markdown",
   "id": "4d8b8473-6703-489f-a6d0-5987c5030d19",
   "metadata": {},
   "source": [
    "Определим уровень значимости $\\alpha = 0.05$"
   ]
  },
  {
   "cell_type": "code",
   "execution_count": 5,
   "id": "2c1353c6-3280-4042-9e3d-e26a08d51a22",
   "metadata": {},
   "outputs": [
    {
     "data": {
      "text/plain": [
       "KruskalResult(statistic=5.465564058257224, pvalue=0.0650380998590494)"
      ]
     },
     "execution_count": 5,
     "metadata": {},
     "output_type": "execute_result"
    }
   ],
   "source": [
    "X1 = np.array([56, 60, 62, 55, 71, 67, 59, 58, 64, 67])\n",
    "X2 = np.array([57, 58, 69, 48, 72, 70, 68, 71, 50, 53])\n",
    "X3 = np.array([57, 67, 49, 48, 47, 55, 66, 51, 54])\n",
    "\n",
    "kruskal(X1, X2, X3)"
   ]
  },
  {
   "cell_type": "markdown",
   "id": "b18c8b7e-731e-4792-bd87-8fbac57bb938",
   "metadata": {},
   "source": [
    "p_value превышает уровень значимости, следовательно, нет оснований отвергать нулевую гипотезу.<br>\n",
    "**Вывод:** статистически значимой разницы между выборками нет. Значит все спортсмены имеют схожую подготовку."
   ]
  },
  {
   "cell_type": "markdown",
   "id": "1a9494f9-29ff-4af3-bad6-ce60c4c66ad3",
   "metadata": {},
   "source": [
    "### Задача 5."
   ]
  },
  {
   "cell_type": "markdown",
   "id": "2e9f8a1c-2b64-40a9-a9e0-bd54430a825d",
   "metadata": {},
   "source": [
    "Заявляется, что партия изготавливается со средним арифметическим 2,5 см. Проверить данную гипотезу, если известно, что размеры изделий подчинены нормальному закону распределения. \n",
    "\n",
    "- Объем выборки 10,\n",
    "- уровень статистической значимости 5%\n",
    "- Значения: 2.51, 2.35, 2.74, 2.56, 2.40, 2.36, 2.65, 2.7, 2.67, 2.34"
   ]
  },
  {
   "cell_type": "code",
   "execution_count": 6,
   "id": "841f4c98-9d5e-4c3c-ba3b-b23af2a9cd11",
   "metadata": {},
   "outputs": [],
   "source": [
    "x = np.array([2.51, 2.35, 2.74, 2.56, 2.40, 2.36, 2.65, 2.7, 2.67, 2.34])\n",
    "n = x.shape[0]\n",
    "mu = 2.5\n",
    "alpha = 0.05"
   ]
  },
  {
   "cell_type": "markdown",
   "id": "20c81e0d-70e6-4c1b-9b33-b6e548eb62f6",
   "metadata": {},
   "source": [
    "Раз распределение нормальное, а количество наблюдений небольшое - будем использовать t-тест.\n",
    "\n",
    "Сформулируем гипотезы:\n",
    "\n",
    "$H_0: \\mu = 2.5$\n",
    "\n",
    "$H_1: \\mu \\neq 2.5$"
   ]
  },
  {
   "cell_type": "markdown",
   "id": "bc18dcb4-e26b-4a8d-bb34-fafaf3cc6cc5",
   "metadata": {},
   "source": [
    "Рассчитаем дополнительные параметры (выборочное среднее и дисперсию):\n",
    "\n",
    "$\\displaystyle \\overline{x} = \\frac{\\sum_{i=1}^n x}{n}$\n",
    "\n",
    "$\\displaystyle D = \\frac{\\sum_{i=1}^n(x - \\overline{x})}{n - 1}$"
   ]
  },
  {
   "cell_type": "code",
   "execution_count": 7,
   "id": "d83092c6-2fae-4561-938a-0435c5aac56d",
   "metadata": {},
   "outputs": [
    {
     "data": {
      "text/plain": [
       "(2.5279999999999996, 0.02472888888888891)"
      ]
     },
     "execution_count": 7,
     "metadata": {},
     "output_type": "execute_result"
    }
   ],
   "source": [
    "avg_x = x.mean()\n",
    "D = x.var(ddof=1)\n",
    "\n",
    "avg_x, D"
   ]
  },
  {
   "cell_type": "markdown",
   "id": "7080259c-1a52-4792-b578-15909f8301a9",
   "metadata": {},
   "source": [
    "Определим критические значения:"
   ]
  },
  {
   "cell_type": "code",
   "execution_count": 8,
   "id": "1ad94a46-ab17-4f92-957c-24f966680841",
   "metadata": {},
   "outputs": [
    {
     "data": {
      "text/plain": [
       "(-2.262157162740992, 2.2621571627409915)"
      ]
     },
     "execution_count": 8,
     "metadata": {},
     "output_type": "execute_result"
    }
   ],
   "source": [
    "critical_1 = t_stat.ppf(alpha/2, n-1)  # alpha/2 т.к. - двусторонняя гипотеза\n",
    "critical_2 = t_stat.ppf(1 - alpha/2, n-1)\n",
    "critical_1, critical_2"
   ]
  },
  {
   "cell_type": "markdown",
   "id": "bb41961d-39c5-4f15-b806-7fffd43d1082",
   "metadata": {},
   "source": [
    "Проведем тест"
   ]
  },
  {
   "cell_type": "markdown",
   "id": "4d0210d8-177a-4948-82a8-e62516e8212f",
   "metadata": {},
   "source": [
    "$\\displaystyle t = \\frac{\\overline{x} - \\mu}{\\sqrt{D} / \\sqrt{n}} = \\frac{2.528 - 2.5}{\\sqrt{0.025} / \\sqrt{10}} = 0.563$"
   ]
  },
  {
   "cell_type": "code",
   "execution_count": 9,
   "id": "4691f7ea-5a49-4611-a6ad-963a41bf8d21",
   "metadata": {},
   "outputs": [
    {
     "data": {
      "text/plain": [
       "0.5630613661802959"
      ]
     },
     "execution_count": 9,
     "metadata": {},
     "output_type": "execute_result"
    }
   ],
   "source": [
    "t = (avg_x - mu) / (np.sqrt(D) / np.sqrt(n))\n",
    "t"
   ]
  },
  {
   "cell_type": "markdown",
   "id": "16eb82be-65b0-424e-932f-8e0a7f8ada83",
   "metadata": {},
   "source": [
    "Отклонение среднего диаметра по выборке не превышает критических значения, а значит нет оснований отвергать нулевуюю гипотезу.<br>\n",
    "**Вывод:** партия шариков соответствует заявленным параметрам."
   ]
  }
 ],
 "metadata": {
  "kernelspec": {
   "display_name": "Python 3 (ipykernel)",
   "language": "python",
   "name": "python3"
  },
  "language_info": {
   "codemirror_mode": {
    "name": "ipython",
    "version": 3
   },
   "file_extension": ".py",
   "mimetype": "text/x-python",
   "name": "python",
   "nbconvert_exporter": "python",
   "pygments_lexer": "ipython3",
   "version": "3.9.1"
  }
 },
 "nbformat": 4,
 "nbformat_minor": 5
}
