{
 "cells": [
  {
   "cell_type": "markdown",
   "id": "b9a79aea-7e41-4d5a-85e7-abce8ffb08eb",
   "metadata": {},
   "source": [
    "## Урок 1. Расчет вероятности случайных событий"
   ]
  },
  {
   "cell_type": "code",
   "execution_count": 1,
   "id": "711a7376-c7d8-402a-9c86-ca3ea019cf9b",
   "metadata": {},
   "outputs": [],
   "source": [
    "from numpy import math"
   ]
  },
  {
   "cell_type": "code",
   "execution_count": 2,
   "id": "0c3ce812-faf4-4ee5-88f2-3e7c53993733",
   "metadata": {},
   "outputs": [],
   "source": [
    "def combinations(n, k):\n",
    "    res = math.factorial(n) / (math.factorial(k) * math.factorial(n - k))\n",
    "    return res"
   ]
  },
  {
   "cell_type": "markdown",
   "id": "264071d0-093e-4d0d-8b62-2317763c2c1d",
   "metadata": {},
   "source": [
    "### Задача 01:"
   ]
  },
  {
   "cell_type": "markdown",
   "id": "bc894497-1748-4fb4-84ce-3ddd36b50869",
   "metadata": {
    "tags": []
   },
   "source": [
    "Из колоды в 52 карты извлекаются случайным образом 4 карты. \n",
    "\n",
    "#### Найти вероятность того, что все карты – крести."
   ]
  },
  {
   "cell_type": "markdown",
   "id": "d5ffbb9a-5737-45a9-b0a5-c07e2c6b8e84",
   "metadata": {},
   "source": [
    "Чтобы найти вероятность того, что все карты крести, сначала нужно определить сколько сочетаний крестей по 4 карты, вообще есть в колоде:\n",
    "\n",
    "$\\displaystyle C_n^k = \\frac{n!}{k!(n-k)!}$\n",
    "\n",
    "в нашем случае n = 9 (карт каждой масти в колоде по 9 штук), k = 4 (по условию задачи)."
   ]
  },
  {
   "cell_type": "code",
   "execution_count": 3,
   "id": "19d07e2c-2665-4406-bb91-6c643f9a850d",
   "metadata": {},
   "outputs": [
    {
     "data": {
      "text/plain": [
       "126.0"
      ]
     },
     "execution_count": 3,
     "metadata": {},
     "output_type": "execute_result"
    }
   ],
   "source": [
    "n = 9\n",
    "k = 4\n",
    "\n",
    "C_cross = combinations(n, k)\n",
    "C_cross"
   ]
  },
  {
   "cell_type": "markdown",
   "id": "d533bd1a-dc91-4a29-8700-94fd45e10852",
   "metadata": {},
   "source": [
    "Теперь нужно найти все возможные сочетания четырех карт в колоде:"
   ]
  },
  {
   "cell_type": "code",
   "execution_count": 4,
   "id": "a6c64c2e-3e7f-4d24-a1e7-daa33975cfb6",
   "metadata": {},
   "outputs": [
    {
     "data": {
      "text/plain": [
       "58905.0"
      ]
     },
     "execution_count": 4,
     "metadata": {},
     "output_type": "execute_result"
    }
   ],
   "source": [
    "n = 36\n",
    "k = 4\n",
    "\n",
    "C_total = combinations(n, k)\n",
    "C_total"
   ]
  },
  {
   "cell_type": "markdown",
   "id": "fbcf0e15-8df7-4873-810f-27ba716df680",
   "metadata": {},
   "source": [
    "Наконец найдем вероятность того, что при случайной выборке 4х карт из 36, они окажутся крестовой масти, просто разделив количество благоприятных исходов, на общее количество исходов:"
   ]
  },
  {
   "cell_type": "code",
   "execution_count": 5,
   "id": "268ad3e9-87d8-4afb-9683-0b7a5d16cd12",
   "metadata": {},
   "outputs": [
    {
     "data": {
      "text/plain": [
       "0.002"
      ]
     },
     "execution_count": 5,
     "metadata": {},
     "output_type": "execute_result"
    }
   ],
   "source": [
    "round(C_cross / C_total, 3)"
   ]
  },
  {
   "cell_type": "markdown",
   "id": "f34e54e5-2632-4e20-b6ac-e081b0ec061c",
   "metadata": {},
   "source": [
    "#### Найти вероятность, что среди 4-х карт окажется хотя бы один туз."
   ]
  },
  {
   "cell_type": "markdown",
   "id": "5f6dc32b-1107-48d3-98ef-dd855b2af696",
   "metadata": {},
   "source": [
    "Тузов в колоде всего 4, поэтому найдем все возможные комбинации 3х карт из 32х, и умножим на количество тузов в колоде:"
   ]
  },
  {
   "cell_type": "code",
   "execution_count": 6,
   "id": "aa43f5f7-3b9c-4105-a8c3-a0ad9c5526de",
   "metadata": {},
   "outputs": [
    {
     "data": {
      "text/plain": [
       "19840.0"
      ]
     },
     "execution_count": 6,
     "metadata": {},
     "output_type": "execute_result"
    }
   ],
   "source": [
    "n = 32\n",
    "k = 3\n",
    "\n",
    "C_not_T = combinations(n, k) * 4\n",
    "C_not_T"
   ]
  },
  {
   "cell_type": "markdown",
   "id": "c667df97-ab39-4217-9300-16f978de263b",
   "metadata": {},
   "source": [
    "А полное количество сочетаний 4 карт из 36 мы считали в прошлой части задачи. \n",
    "\n",
    "Тогда вероятность получить, хотя бы один туз, выбирая по 4 карты из колоды, составляет:"
   ]
  },
  {
   "cell_type": "code",
   "execution_count": 7,
   "id": "a733bff6-4059-431f-aee8-4539fcba0932",
   "metadata": {},
   "outputs": [
    {
     "data": {
      "text/plain": [
       "0.337"
      ]
     },
     "execution_count": 7,
     "metadata": {},
     "output_type": "execute_result"
    }
   ],
   "source": [
    "round(C_not_T / C_total, 3)"
   ]
  },
  {
   "cell_type": "markdown",
   "id": "92148689-61f2-41da-bd99-e38319dfb006",
   "metadata": {},
   "source": [
    "### Задача 02"
   ]
  },
  {
   "cell_type": "markdown",
   "id": "f25c1f67-9c53-4c80-aa75-d4063c5a53ba",
   "metadata": {},
   "source": [
    "На входной двери подъезда установлен кодовый замок, содержащий десять кнопок с цифрами от 0 до 9. Код содержит три цифры, которые нужно нажать одновременно. Какова вероятность того, что человек, не знающий код, откроет дверь с первой попытки?"
   ]
  },
  {
   "cell_type": "markdown",
   "id": "f2065dda-f8ba-4870-9554-baa628659898",
   "metadata": {},
   "source": [
    "Сначала нужно посчитать общее количество комбинаций:"
   ]
  },
  {
   "cell_type": "code",
   "execution_count": 8,
   "id": "cf74f19e-1b12-4161-a7a2-b12a1127bb96",
   "metadata": {},
   "outputs": [
    {
     "data": {
      "text/plain": [
       "120.0"
      ]
     },
     "execution_count": 8,
     "metadata": {},
     "output_type": "execute_result"
    }
   ],
   "source": [
    "n = 10\n",
    "k = 3\n",
    "\n",
    "combs = combinations(n, k)\n",
    "combs"
   ]
  },
  {
   "cell_type": "markdown",
   "id": "3ce8c084-3654-41bb-8494-337cd5a7253a",
   "metadata": {},
   "source": [
    "При условии, что верна только одна комбинация, вероятность попасть с первого раза:"
   ]
  },
  {
   "cell_type": "code",
   "execution_count": 9,
   "id": "44c9e567-9f8b-4ee8-b3a2-e92e750eddb0",
   "metadata": {},
   "outputs": [
    {
     "data": {
      "text/plain": [
       "0.008333333333333333"
      ]
     },
     "execution_count": 9,
     "metadata": {},
     "output_type": "execute_result"
    }
   ],
   "source": [
    "1 / combs"
   ]
  },
  {
   "cell_type": "markdown",
   "id": "abf5249a-ce06-4cd0-be75-885e7c8ef9aa",
   "metadata": {},
   "source": [
    "### Задача 03"
   ]
  },
  {
   "cell_type": "markdown",
   "id": "6c241f61-8338-4bca-943a-65af91d61fb4",
   "metadata": {},
   "source": [
    "В ящике имеется 15 деталей, из которых 9 окрашены. Рабочий случайным образом извлекает 3 детали. Какова вероятность того, что все извлеченные детали окрашены?"
   ]
  },
  {
   "cell_type": "markdown",
   "id": "b835fa72-955d-4eca-845e-25ec95f84f4e",
   "metadata": {},
   "source": [
    "Здесь сначала нужно разделить детали на два подмножества (окрашенные и неокрашенные), потом посчитать количество сочетаний окрашенных деталей по 3 штуки:"
   ]
  },
  {
   "cell_type": "code",
   "execution_count": 10,
   "id": "78a5c948-23e6-46e1-9a84-ae823030250e",
   "metadata": {},
   "outputs": [
    {
     "data": {
      "text/plain": [
       "84.0"
      ]
     },
     "execution_count": 10,
     "metadata": {},
     "output_type": "execute_result"
    }
   ],
   "source": [
    "n = 9\n",
    "k = 3\n",
    "\n",
    "C_painted = combinations(n, k)\n",
    "C_painted"
   ]
  },
  {
   "cell_type": "markdown",
   "id": "3bc9db1a-65a0-441c-b4ae-0e4b5ff1bd16",
   "metadata": {},
   "source": [
    "Затем посчитать общее количество сочетаний по 3 детали из 15"
   ]
  },
  {
   "cell_type": "code",
   "execution_count": 11,
   "id": "c727a476-6668-4d14-b5c6-5546a93f52c4",
   "metadata": {},
   "outputs": [
    {
     "data": {
      "text/plain": [
       "455.0"
      ]
     },
     "execution_count": 11,
     "metadata": {},
     "output_type": "execute_result"
    }
   ],
   "source": [
    "n = 15\n",
    "k = 3\n",
    "\n",
    "C_total = combinations(n, k)\n",
    "C_total"
   ]
  },
  {
   "cell_type": "markdown",
   "id": "5d688ba8-9cbb-4bf8-80b9-99f7a7fe1617",
   "metadata": {},
   "source": [
    "И разделить благоприятные исходы на их общее количество:"
   ]
  },
  {
   "cell_type": "code",
   "execution_count": 12,
   "id": "e05375f3-d753-4347-b4be-74eec80fe04a",
   "metadata": {},
   "outputs": [
    {
     "data": {
      "text/plain": [
       "0.185"
      ]
     },
     "execution_count": 12,
     "metadata": {},
     "output_type": "execute_result"
    }
   ],
   "source": [
    "round(C_painted / C_total, 3)"
   ]
  },
  {
   "cell_type": "markdown",
   "id": "59779a9f-2d08-4666-8576-fccdb335f8f1",
   "metadata": {},
   "source": [
    "### Задача 04"
   ]
  },
  {
   "cell_type": "markdown",
   "id": "1df34843-c8fe-467e-98e4-6c8f615297c2",
   "metadata": {},
   "source": [
    "В лотерее 100 билетов. Из них 2 выигрышных. Какова вероятность того, что 2 приобретенных билета окажутся выигрышными?"
   ]
  },
  {
   "cell_type": "markdown",
   "id": "55f5263c-49bf-466d-8885-eb7724d1f0a6",
   "metadata": {},
   "source": [
    "Так как количество сочетаний в выборке из 2х по 2 равно 1, то просто посчитаем общее количество сочетаний 100 билетов по 2, а потом, разделим единицу на полученный результат:"
   ]
  },
  {
   "cell_type": "code",
   "execution_count": 13,
   "id": "d8a9f051-aa7e-4ea7-a312-889a70eee429",
   "metadata": {},
   "outputs": [
    {
     "data": {
      "text/plain": [
       "0.0002"
      ]
     },
     "execution_count": 13,
     "metadata": {},
     "output_type": "execute_result"
    }
   ],
   "source": [
    "n = 100\n",
    "k = 2\n",
    "\n",
    "round(1 / combinations(n, k), 4)"
   ]
  }
 ],
 "metadata": {
  "kernelspec": {
   "display_name": "Python 3 (ipykernel)",
   "language": "python",
   "name": "python3"
  },
  "language_info": {
   "codemirror_mode": {
    "name": "ipython",
    "version": 3
   },
   "file_extension": ".py",
   "mimetype": "text/x-python",
   "name": "python",
   "nbconvert_exporter": "python",
   "pygments_lexer": "ipython3",
   "version": "3.9.1"
  }
 },
 "nbformat": 4,
 "nbformat_minor": 5
}
