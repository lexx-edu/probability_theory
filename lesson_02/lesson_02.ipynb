{
 "cells": [
  {
   "cell_type": "markdown",
   "id": "4be648cc-54b6-4939-8098-022950e9b311",
   "metadata": {},
   "source": [
    "## Урок 2. Дискретные распределения вероятностей"
   ]
  },
  {
   "cell_type": "code",
   "execution_count": 1,
   "id": "57dd906f-4341-4258-a33a-4ae04f3b2b3b",
   "metadata": {},
   "outputs": [],
   "source": [
    "from numpy import math, e"
   ]
  },
  {
   "cell_type": "code",
   "execution_count": 2,
   "id": "3570e2bc-745b-4202-95bd-6513da4dba21",
   "metadata": {},
   "outputs": [],
   "source": [
    "def combinations(n, k):\n",
    "    res = math.factorial(n) / (math.factorial(k) * math.factorial(n - k))\n",
    "    return res"
   ]
  },
  {
   "cell_type": "code",
   "execution_count": 3,
   "id": "7527281e-bacf-43ed-bf17-9035b265f163",
   "metadata": {},
   "outputs": [],
   "source": [
    "def bernully(p, n, k):\n",
    "    C = combinations(n, k)\n",
    "    q = 1 - p\n",
    "    result = C * p ** k * q ** (n - k)\n",
    "    return result"
   ]
  },
  {
   "cell_type": "code",
   "execution_count": 4,
   "id": "9db4ecd6-d3b8-479f-9c06-9b399a3b7046",
   "metadata": {},
   "outputs": [],
   "source": [
    "def poisson(m, p=None, n=None, lamb=None):\n",
    "    if not p is None:\n",
    "        lamb = p * n\n",
    "    \n",
    "    m_fact = math.factorial(m)\n",
    "    result = lamb ** m / m_fact * e ** -lamb\n",
    "    \n",
    "    return result"
   ]
  },
  {
   "cell_type": "markdown",
   "id": "3cf68bb6-6d91-4500-a4ef-957e02c33a69",
   "metadata": {},
   "source": [
    "1. Вероятность того, что стрелок попадет в мишень, выстрелив один раз, равна 0.8. Стрелок выстрелил 100 раз. Найдите вероятность того, что стрелок попадет в цель ровно 85 раз.\n",
    "\n",
    "1. Вероятность того, что лампочка перегорит в течение первого дня эксплуатации, равна 0.0004. В жилом комплексе после ремонта в один день включили 5000 новых лампочек. Какова вероятность, что ни одна из них не перегорит в первый день? Какова вероятность, что перегорят ровно две?\n",
    "\n",
    "1. Монету подбросили 144 раза. Какова вероятность, что орел выпадет ровно 70 раз?\n",
    "\n",
    "1. В первом ящике находится 10 мячей, из которых 7 - белые. Во втором ящике - 11 мячей, из которых 9 белых. Из каждого ящика вытаскивают случайным образом по два мяча. Какова вероятность того, что все мячи белые? Какова вероятность того, что ровно два мяча белые? Какова вероятность того, что хотя бы один мяч белый?"
   ]
  },
  {
   "cell_type": "markdown",
   "id": "427ecfbd-3528-41dc-8416-5ef2a101966d",
   "metadata": {},
   "source": [
    "### Задача 1."
   ]
  },
  {
   "cell_type": "markdown",
   "id": "2da66cbb-871a-4db8-8edb-25396eb7c81e",
   "metadata": {},
   "source": [
    "Вероятность того, что стрелок попадет в мишень, выстрелив один раз, равна 0.8. Стрелок выстрелил 100 раз. Найдите вероятность того, что стрелок попадет в цель ровно 85 раз."
   ]
  },
  {
   "cell_type": "markdown",
   "id": "b241f8f7-41ce-4966-b765-7a1d2b0ebd95",
   "metadata": {},
   "source": [
    "В этой задаче известна вероятность события (0.8, и она очень высока), а найти нужно вероятность наступления k событий (85) из n (100). Воспользуемся формулой Бернулли: \n",
    "\n",
    "$P_n (X=k) = C_n^k \\cdot p^k \\cdot q^{n-k}$"
   ]
  },
  {
   "cell_type": "code",
   "execution_count": 5,
   "id": "1a071ed9-a419-4326-a734-3424dff3648c",
   "metadata": {},
   "outputs": [
    {
     "data": {
      "text/plain": [
       "0.048061793700746355"
      ]
     },
     "execution_count": 5,
     "metadata": {},
     "output_type": "execute_result"
    }
   ],
   "source": [
    "p = 0.8\n",
    "n = 100\n",
    "k = 85\n",
    "\n",
    "bernully(p, n, k)"
   ]
  },
  {
   "cell_type": "markdown",
   "id": "360d4821-1395-4907-9dee-0c51dcff7d29",
   "metadata": {},
   "source": [
    "### Задача 2."
   ]
  },
  {
   "cell_type": "markdown",
   "id": "f6d7da2e-26b9-42e9-bc7b-b5e262f3be61",
   "metadata": {},
   "source": [
    "Вероятность того, что лампочка перегорит в течение первого дня эксплуатации, равна 0.0004. В жилом комплексе после ремонта в один день включили 5000 новых лампочек. Какова вероятность, что ни одна из них не перегорит в первый день? Какова вероятность, что перегорят ровно две?"
   ]
  },
  {
   "cell_type": "markdown",
   "id": "d4250947-401e-4b84-87bd-7cd4f02de2f0",
   "metadata": {},
   "source": [
    "#### часть 1"
   ]
  },
  {
   "cell_type": "markdown",
   "id": "a046b738-5323-4178-ba18-5319d5d6e74f",
   "metadata": {},
   "source": [
    "Какова вероятность, что ни одна из них не перегорит в первый день?"
   ]
  },
  {
   "cell_type": "markdown",
   "id": "3ce29f0b-8e93-46f5-ade0-98134a95dc4c",
   "metadata": {
    "tags": []
   },
   "source": [
    "Здесь требуется, из большого количества испытаний (5000) и небольшой вероятности наступления события (0.0004), найти вероятность наступления m событий из n испытаний.\n",
    "\n",
    "В данном случае 0 событий из 5000.\n",
    "\n",
    "И решать будем через формулу распределения Пуассона\n",
    "\n",
    "$\\displaystyle P_m = \\frac{\\lambda^m}{m!}\\cdot e^{-\\lambda}$\n",
    "\n",
    "$\\lambda = p \\cdot n$"
   ]
  },
  {
   "cell_type": "code",
   "execution_count": 6,
   "id": "bb801de0-8a22-45a6-93c0-2afcd00615b0",
   "metadata": {
    "tags": []
   },
   "outputs": [
    {
     "data": {
      "text/plain": [
       "0.1353352832366127"
      ]
     },
     "execution_count": 6,
     "metadata": {},
     "output_type": "execute_result"
    }
   ],
   "source": [
    "m = 0\n",
    "n = 5000\n",
    "p = 0.0004\n",
    "\n",
    "poisson(m, n=n, p=p)"
   ]
  },
  {
   "cell_type": "markdown",
   "id": "985ad57e-175e-47c4-9dfd-13f933f439bb",
   "metadata": {},
   "source": [
    "#### часть 2"
   ]
  },
  {
   "cell_type": "markdown",
   "id": "0602fc5a-81e8-4cca-a728-a8a4a8856aa9",
   "metadata": {},
   "source": [
    "Какова вероятность, что перегорят ровно две?"
   ]
  },
  {
   "cell_type": "markdown",
   "id": "c601403d-baa1-4374-bd92-2a348f797e72",
   "metadata": {},
   "source": [
    "Да, собственно - логика та же, что и в предыдущей части ), только m = 2"
   ]
  },
  {
   "cell_type": "code",
   "execution_count": 7,
   "id": "1d098349-b5a2-4fba-8071-0dfe2edccfd5",
   "metadata": {},
   "outputs": [
    {
     "data": {
      "text/plain": [
       "0.2706705664732254"
      ]
     },
     "execution_count": 7,
     "metadata": {},
     "output_type": "execute_result"
    }
   ],
   "source": [
    "m = 2\n",
    "n = 5000\n",
    "p = 0.0004\n",
    "\n",
    "poisson(m, n=n, p=p)"
   ]
  },
  {
   "cell_type": "markdown",
   "id": "ae9cfb8a-f60f-4004-a21d-4d52d3c7ba81",
   "metadata": {},
   "source": [
    "### Задача 3"
   ]
  },
  {
   "cell_type": "markdown",
   "id": "292bacd0-5dec-4bd3-9474-0171178f20ef",
   "metadata": {},
   "source": [
    "Монету подбросили 144 раза. Какова вероятность, что орел выпадет ровно 70 раз?"
   ]
  },
  {
   "cell_type": "markdown",
   "id": "fc7d6d3c-808d-4298-9653-1b259ea369d4",
   "metadata": {},
   "source": [
    "Решать эту задачу удобно через формулу Бернулли, т.к. нам известна вероятность наступления события в испытании (0.5, и она - высока), а найти нужно наступление k исходов (70) и n количества испытаний (144)"
   ]
  },
  {
   "cell_type": "code",
   "execution_count": 8,
   "id": "13383025-cb8c-4b13-a0c8-11f7dcd310ad",
   "metadata": {},
   "outputs": [
    {
     "data": {
      "text/plain": [
       "0.06281178035144776"
      ]
     },
     "execution_count": 8,
     "metadata": {},
     "output_type": "execute_result"
    }
   ],
   "source": [
    "n = 144\n",
    "k = 70\n",
    "p = 0.5\n",
    "\n",
    "bernully(p, n, k)"
   ]
  },
  {
   "cell_type": "markdown",
   "id": "80030a99-104b-4bac-8f53-b504ebc36dac",
   "metadata": {},
   "source": [
    "### Задача 4"
   ]
  },
  {
   "cell_type": "markdown",
   "id": "60fa3f58-0d01-47aa-b132-fbcd66a5dde9",
   "metadata": {},
   "source": [
    "В первом ящике находится 10 мячей, из которых 7 - белые. Во втором ящике - 11 мячей, из которых 9 белых. Из каждого ящика вытаскивают случайным образом по два мяча. Какова вероятность того, что все мячи белые? Какова вероятность того, что ровно два мяча белые? Какова вероятность того, что хотя бы один мяч белый?"
   ]
  },
  {
   "cell_type": "markdown",
   "id": "fc8f32e8-e79d-4694-9112-91ed213b3e36",
   "metadata": {},
   "source": [
    "#### часть 1"
   ]
  },
  {
   "cell_type": "markdown",
   "id": "87c3571e-2d3c-4f09-b9e6-6019ff5354cc",
   "metadata": {},
   "source": [
    "Какова вероятность того, что все мячи белые?"
   ]
  },
  {
   "cell_type": "markdown",
   "id": "f21e29c3-0b43-4549-9e6a-1ab76e58f76a",
   "metadata": {},
   "source": [
    "Хм... Общая вероятность событий определяется по формуле:\n",
    "\n",
    "$P(AB) = P(A) \\cdot P(B)$\n",
    "\n",
    "Вытащить два белых мяча из первого ящика будет:\n",
    "\n",
    "$\\displaystyle P(AB) = \\frac{7}{10} \\cdot \\frac{6}{9}$\n",
    "\n",
    "По той же логике:\n",
    "\n",
    "$P(CD) = P(C) \\cdot P(D)$\n",
    "$\\displaystyle P(CD) = \\frac{9}{11} \\cdot \\frac{8}{10}$\n",
    "\n",
    "И полное наступление события \"все мячи белые\":\n",
    "\n",
    "$P(ABCD) = P(AB) \\cdot P(CD)$\n",
    "\n",
    "$\\displaystyle P(ABCD) = \\frac{7}{10} \\cdot \\frac{6}{9} \\cdot \\frac{9}{11} \\cdot \\frac{8}{10}$"
   ]
  },
  {
   "cell_type": "code",
   "execution_count": 9,
   "id": "546185b2-2699-4a1e-897d-013542c69616",
   "metadata": {},
   "outputs": [
    {
     "data": {
      "text/plain": [
       "0.3054545454545454"
      ]
     },
     "execution_count": 9,
     "metadata": {},
     "output_type": "execute_result"
    }
   ],
   "source": [
    "7/10 * 6/9 * 9/11 * 8/10"
   ]
  },
  {
   "cell_type": "markdown",
   "id": "6739ac62-52d5-422d-80d3-61dbe9166d8d",
   "metadata": {},
   "source": [
    "#### часть 2"
   ]
  },
  {
   "cell_type": "markdown",
   "id": "74a90d2e-3cb3-424e-b283-bef0f845245d",
   "metadata": {},
   "source": [
    "Какова вероятность того, что ровно два мяча белые?"
   ]
  },
  {
   "cell_type": "markdown",
   "id": "c95b7e37-9c3b-4ba3-bc49-be286d1dd4bc",
   "metadata": {},
   "source": [
    "Сочетаний получить два белых шара из 4х:"
   ]
  },
  {
   "cell_type": "code",
   "execution_count": 10,
   "id": "160c1e66-5b85-47ac-a671-9aea78ef488a",
   "metadata": {},
   "outputs": [
    {
     "data": {
      "text/plain": [
       "6.0"
      ]
     },
     "execution_count": 10,
     "metadata": {},
     "output_type": "execute_result"
    }
   ],
   "source": [
    "combinations(4, 2)"
   ]
  },
  {
   "cell_type": "markdown",
   "id": "9ee81f97-c8a6-4f2a-ae20-a91961846a63",
   "metadata": {},
   "source": [
    "В первом ящике находится 10 мячей, из которых 7 - белые. Во втором ящике - 11 мячей, из которых 9 белых. "
   ]
  },
  {
   "cell_type": "markdown",
   "id": "472addbb-3aa5-4090-bd8b-0dc6d5408153",
   "metadata": {},
   "source": [
    "1. ББ ЧЧ\n",
    "1. ЧЧ ББ\n",
    "1. БЧ БЧ\n",
    "1. БЧ ЧБ\n",
    "1. ЧБ БЧ\n",
    "1. ЧБ ЧБ"
   ]
  },
  {
   "cell_type": "code",
   "execution_count": 11,
   "id": "225c0e8b-efb0-4899-ae10-2c9d1aa6a526",
   "metadata": {},
   "outputs": [
    {
     "data": {
      "text/plain": [
       "0.20484848484848484"
      ]
     },
     "execution_count": 11,
     "metadata": {},
     "output_type": "execute_result"
    }
   ],
   "source": [
    "ww_bb = 7/10 * 6/9 * 2/11 * 1/10\n",
    "bb_ww = 3/10 * 2/9 * 9/11 * 8/10\n",
    "wb_wb = 7/10 * 3/9 * 9/11 * 2/10\n",
    "wb_bw = 7/10 * 3/9 * 2/11 * 9/10\n",
    "bw_wb = 3/10 * 7/9 * 9/11 * 2/10\n",
    "bw_bw = 3/10 * 7/9 * 2/11 * 9/10\n",
    "\n",
    "ww_bb + bb_ww + wb_wb + wb_bw + bw_wb + bw_bw"
   ]
  }
 ],
 "metadata": {
  "kernelspec": {
   "display_name": "Python 3 (ipykernel)",
   "language": "python",
   "name": "python3"
  },
  "language_info": {
   "codemirror_mode": {
    "name": "ipython",
    "version": 3
   },
   "file_extension": ".py",
   "mimetype": "text/x-python",
   "name": "python",
   "nbconvert_exporter": "python",
   "pygments_lexer": "ipython3",
   "version": "3.9.1"
  }
 },
 "nbformat": 4,
 "nbformat_minor": 5
}
