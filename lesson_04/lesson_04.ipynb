{
 "cells": [
  {
   "cell_type": "markdown",
   "id": "7b175c0c-4ac4-412b-8afc-21caa1ea7aa0",
   "metadata": {},
   "source": [
    "## Урок 4. Непрерывная случайная величина"
   ]
  },
  {
   "cell_type": "code",
   "execution_count": 1,
   "id": "356359f0-7b63-4e82-b29c-1c7ddf23356c",
   "metadata": {},
   "outputs": [],
   "source": [
    "import numpy as np\n",
    "from scipy.stats import norm"
   ]
  },
  {
   "cell_type": "markdown",
   "id": "002ae1e7-e5ef-4a26-abc2-12831f9e4e17",
   "metadata": {},
   "source": [
    "### Задача 1."
   ]
  },
  {
   "cell_type": "markdown",
   "id": "dc068b78-0089-4d2d-a3ff-2ed996573fde",
   "metadata": {},
   "source": [
    "Случайная непрерывная величина A имеет равномерное распределение на промежутке (200, 800].\n",
    "\n",
    "Найдите ее среднее значение и дисперсию."
   ]
  },
  {
   "cell_type": "markdown",
   "id": "cd61b7e3-0105-4200-91f4-30c65d55a20a",
   "metadata": {},
   "source": [
    "Чтобы найти среднее значение равномерного распределения, нужно найти сумму между концами промежутка и разделить пополам:\n",
    "\n",
    "$\\displaystyle M(x) = \\frac{b + a}{2} = \\frac{800 + 200}{2} = 500$\n",
    "\n",
    "Чтобы найти дисперсию, нужно квадрат разности концов отрезка разделить на 12:\n",
    "\n",
    "$\\displaystyle D(x) = \\frac{(b - a)^2}{12} = \\frac{(800 - 200)^2}{12} = 30 000$"
   ]
  },
  {
   "cell_type": "code",
   "execution_count": 2,
   "id": "6bc7a2f3-e96d-480e-8882-9147da9f9ba0",
   "metadata": {},
   "outputs": [
    {
     "data": {
      "text/plain": [
       "30000.0"
      ]
     },
     "execution_count": 2,
     "metadata": {},
     "output_type": "execute_result"
    }
   ],
   "source": [
    "(800 - 200) ** 2 / 12"
   ]
  },
  {
   "cell_type": "markdown",
   "id": "283d223c-d58f-42bc-9a41-0feed5bae83f",
   "metadata": {},
   "source": [
    "### Задача 2."
   ]
  },
  {
   "cell_type": "markdown",
   "id": "aa48229e-35f8-4717-b6cb-d3e34550fd5b",
   "metadata": {},
   "source": [
    "О случайной непрерывной равномерно распределенной величине B известно, что ее дисперсия равна 0.2.\n",
    "\n",
    "Можно ли найти правую границу величины B и ее среднее значение зная, что левая граница равна 0.5?\n",
    "\n",
    "Если да, найдите ее."
   ]
  },
  {
   "cell_type": "markdown",
   "id": "ae5839b3-9e27-42d0-af9e-0b17bb3544d3",
   "metadata": {},
   "source": [
    "Если дисперсия равна 0.2, а левая граница равна 0.5, то искать следует по формуле:"
   ]
  },
  {
   "cell_type": "markdown",
   "id": "491dd590-07db-4a34-85b2-be8136c805ce",
   "metadata": {},
   "source": [
    "$\\displaystyle b = a + \\sqrt{12D(x)}$"
   ]
  },
  {
   "cell_type": "code",
   "execution_count": 3,
   "id": "53e19eb3-c7c2-4a92-b3d2-536e13ca45da",
   "metadata": {},
   "outputs": [
    {
     "data": {
      "text/plain": [
       "2.049193338482967"
      ]
     },
     "execution_count": 3,
     "metadata": {},
     "output_type": "execute_result"
    }
   ],
   "source": [
    "a = 0.5\n",
    "Dx = 0.2\n",
    "\n",
    "b = a + np.sqrt(12 * Dx)\n",
    "b"
   ]
  },
  {
   "cell_type": "markdown",
   "id": "9f5fecad-0c7b-408f-aee6-c9283f0fc73c",
   "metadata": {},
   "source": [
    "Соответственно, среднее значение будет:"
   ]
  },
  {
   "cell_type": "code",
   "execution_count": 4,
   "id": "b2276903-bcd5-48e2-ae23-68be66229751",
   "metadata": {},
   "outputs": [
    {
     "data": {
      "text/plain": [
       "1.2745966692414834"
      ]
     },
     "execution_count": 4,
     "metadata": {},
     "output_type": "execute_result"
    }
   ],
   "source": [
    "(a + b) / 2"
   ]
  },
  {
   "cell_type": "markdown",
   "id": "c2f74585-db27-428d-9adb-8eead274b1bd",
   "metadata": {},
   "source": [
    "### Задача 3."
   ]
  },
  {
   "cell_type": "markdown",
   "id": "548c6a9d-b70e-4358-8460-8ba0ff031133",
   "metadata": {},
   "source": [
    "Непрерывная случайная величина X распределена нормально и задана плотностью распределения\n",
    "\n",
    "$\\displaystyle f(x) = \\frac{1}{4 * \\sqrt{2\\pi}} \\cdot e^{-\\frac{(x+2)^2}{32})}$\n",
    "\n",
    "\n",
    "Найдите:\n",
    "1. M(X)\n",
    "2. D(X)\n",
    "3. std(X) (среднее квадратичное отклонение)"
   ]
  },
  {
   "cell_type": "markdown",
   "id": "47654518-d62b-4597-9c27-c61df38b99e0",
   "metadata": {},
   "source": [
    "В принципе - все читается из самой записи:\n",
    "\n",
    "$\\displaystyle f(x) = \\frac{1}{std(x) * \\sqrt{2\\pi}} \\cdot e^{-\\frac{(x + M(x))^2}{2 \\cdot D(x)})}$\n",
    "\n",
    "1. M(x) = 2\n",
    "1. D(x) = 16\n",
    "1. std(x) = 4"
   ]
  },
  {
   "cell_type": "markdown",
   "id": "3596d9b2-b6f2-4455-86f0-6ccd353b46f7",
   "metadata": {},
   "source": [
    "### Задача 4. "
   ]
  },
  {
   "cell_type": "markdown",
   "id": "5bd2709a-8023-4c13-8aa7-4919b6540dd8",
   "metadata": {},
   "source": [
    "Рост взрослого населения города X имеет нормальное распределение, причем, средний рост равен 174 см, а среднее квадратическое отклонение равно 8 см. посчитайте, какова вероятность того, что случайным образом выбранный взрослый человек имеет рост:\n",
    "\n",
    "1. больше 182 см?\n",
    "2. больше 190 см?\n",
    "3. от 166 см до 190 см?\n",
    "4. от 166 см до 182 см?\n",
    "5. от 158 см до 190 см?\n",
    "6. не выше 150 см или не ниже 190 см?\n",
    "7. не выше 150 см или не ниже 198 см?\n",
    "8. ниже 166 см?\n",
    "\n",
    "Задачу можно решить двумя способами: без использования сторонних библиотек (numpy, scipy, pandas и пр.), а затем проверить себя с помощью встроенных функций"
   ]
  },
  {
   "cell_type": "markdown",
   "id": "432d8140-a81b-452c-9d33-b7b9f0a1d847",
   "metadata": {},
   "source": [
    "К сожалению у меня нет таблиц z-распределения, поэтому - поясню ход решения на примере пункта 1, и буду пользоваться инструментами от scipy\n",
    "\n",
    "Первое, что нужно сделать - получить z-значение для нужного роста, для этого вычтем из значения роста (x = 182) средний рост (M(x) = 174) жителей и разделим на среднее квадратичное отклонение ($\\sigma$ = 8):\n",
    "\n",
    "здесь:\n",
    "\n",
    "$\\displaystyle z = \\frac{182 - 174}{8} = 1$\n",
    "\n",
    "z-значение показывает, что вероятность втретить человек выше 182 см лежит за одной сигмой вправо от среднего. Берем табличку и считаем нужное значение (в зависимости от таблички, возможно, его нужно будет вычесть из 1)\n",
    "\n",
    "Я же, как говорил, частично воспользуюсь scipy"
   ]
  },
  {
   "cell_type": "code",
   "execution_count": 5,
   "id": "28b647f9-0c7f-47e1-9dfc-44a263181857",
   "metadata": {},
   "outputs": [],
   "source": [
    "def standart_scaler(x_val, mean_val=174, SD=8):\n",
    "    return (x_val - mean_val) / SD"
   ]
  },
  {
   "cell_type": "markdown",
   "id": "9838efdd-f539-408f-8ee3-d96078164bcc",
   "metadata": {},
   "source": [
    "1. больше 182 см?"
   ]
  },
  {
   "cell_type": "code",
   "execution_count": 6,
   "id": "0219f832-6b02-42ac-b246-f92920658af9",
   "metadata": {},
   "outputs": [
    {
     "data": {
      "text/plain": [
       "0.15865525393145707"
      ]
     },
     "execution_count": 6,
     "metadata": {},
     "output_type": "execute_result"
    }
   ],
   "source": [
    "z = standart_scaler(182)\n",
    "1 - norm.cdf(z)"
   ]
  },
  {
   "cell_type": "markdown",
   "id": "d00593c7-3277-404d-a8cb-3791e945b488",
   "metadata": {},
   "source": [
    "2. больше 190 см?"
   ]
  },
  {
   "cell_type": "code",
   "execution_count": 7,
   "id": "52c92f3a-ba5e-4d53-b1ff-1ea5750f013c",
   "metadata": {},
   "outputs": [
    {
     "data": {
      "text/plain": [
       "0.02275013194817921"
      ]
     },
     "execution_count": 7,
     "metadata": {},
     "output_type": "execute_result"
    }
   ],
   "source": [
    "z = standart_scaler(190)\n",
    "1 - norm.cdf(z)"
   ]
  },
  {
   "cell_type": "markdown",
   "id": "5dd9974f-942c-48c1-9ea1-2f7b7c9d3bd7",
   "metadata": {},
   "source": [
    "3. от 166 см до 190 см?"
   ]
  },
  {
   "cell_type": "code",
   "execution_count": 8,
   "id": "87f5034b-be93-4303-9fe5-da756be40867",
   "metadata": {},
   "outputs": [
    {
     "data": {
      "text/plain": [
       "0.8185946141203637"
      ]
     },
     "execution_count": 8,
     "metadata": {},
     "output_type": "execute_result"
    }
   ],
   "source": [
    "z_1 = standart_scaler(166)\n",
    "z_2 = standart_scaler(190)\n",
    "\n",
    "norm.cdf(z_2) - norm.cdf(z_1)"
   ]
  },
  {
   "cell_type": "markdown",
   "id": "c92abfed-b5b3-4023-b738-6b326681e40f",
   "metadata": {},
   "source": [
    "4. от 166 см до 182 см?"
   ]
  },
  {
   "cell_type": "code",
   "execution_count": 9,
   "id": "d20b9c47-fdf3-4fac-9c0f-bedc881f0537",
   "metadata": {},
   "outputs": [
    {
     "data": {
      "text/plain": [
       "0.6826894921370859"
      ]
     },
     "execution_count": 9,
     "metadata": {},
     "output_type": "execute_result"
    }
   ],
   "source": [
    "z_1 = standart_scaler(166)\n",
    "z_2 = standart_scaler(182)\n",
    "\n",
    "norm.cdf(z_2) - norm.cdf(z_1)"
   ]
  },
  {
   "cell_type": "markdown",
   "id": "03566cc2-e43c-47ad-8e84-53fdf9a271b5",
   "metadata": {},
   "source": [
    "5. от 158 см до 190 см?"
   ]
  },
  {
   "cell_type": "code",
   "execution_count": 10,
   "id": "dc412660-5d54-41a9-b74a-5a22a0f9c890",
   "metadata": {},
   "outputs": [
    {
     "data": {
      "text/plain": [
       "0.9544997361036416"
      ]
     },
     "execution_count": 10,
     "metadata": {},
     "output_type": "execute_result"
    }
   ],
   "source": [
    "z_1 = standart_scaler(158)\n",
    "z_2 = standart_scaler(190)\n",
    "\n",
    "norm.cdf(z_2) - norm.cdf(z_1)"
   ]
  },
  {
   "cell_type": "markdown",
   "id": "48508db3-333d-40aa-b71f-76c328039d67",
   "metadata": {},
   "source": [
    "6. не выше 150 см или не ниже 190 см?"
   ]
  },
  {
   "cell_type": "code",
   "execution_count": 11,
   "id": "5819a409-7bdd-4334-ab6a-22bf7efbefa3",
   "metadata": {},
   "outputs": [
    {
     "data": {
      "text/plain": [
       "0.0455002638963584"
      ]
     },
     "execution_count": 11,
     "metadata": {},
     "output_type": "execute_result"
    }
   ],
   "source": [
    "z_1 = standart_scaler(158)\n",
    "z_2 = standart_scaler(190)\n",
    "\n",
    "1 - norm.cdf(z_2) + norm.cdf(z_1)"
   ]
  },
  {
   "cell_type": "markdown",
   "id": "881a9472-c325-46d1-9207-8ed0e2bd9401",
   "metadata": {},
   "source": [
    "7. не выше 150 см или не ниже 198 см?"
   ]
  },
  {
   "cell_type": "code",
   "execution_count": 12,
   "id": "291aaac5-b8ff-4a31-8a5b-c011a9edc680",
   "metadata": {},
   "outputs": [
    {
     "data": {
      "text/plain": [
       "0.0026997960632601965"
      ]
     },
     "execution_count": 12,
     "metadata": {},
     "output_type": "execute_result"
    }
   ],
   "source": [
    "z_1 = standart_scaler(150)\n",
    "z_2 = standart_scaler(198)\n",
    "\n",
    "1 - norm.cdf(z_2) + norm.cdf(z_1)"
   ]
  },
  {
   "cell_type": "markdown",
   "id": "8c4b4eb7-f192-4eec-a013-ec825c9a1572",
   "metadata": {},
   "source": [
    "8. ниже 166 см?"
   ]
  },
  {
   "cell_type": "code",
   "execution_count": 13,
   "id": "58b9ba4c-7cb7-4590-bd23-5c7d071e2f2b",
   "metadata": {},
   "outputs": [
    {
     "data": {
      "text/plain": [
       "0.2266273523768682"
      ]
     },
     "execution_count": 13,
     "metadata": {},
     "output_type": "execute_result"
    }
   ],
   "source": [
    "z = standart_scaler(168)\n",
    "norm.cdf(z)"
   ]
  },
  {
   "cell_type": "markdown",
   "id": "bd2614ef-9b5c-4443-96ca-1e3fa1bda7c3",
   "metadata": {},
   "source": [
    "### Задача 5."
   ]
  },
  {
   "cell_type": "markdown",
   "id": "d8e66196-4350-4a65-bcfb-0bddcf43b843",
   "metadata": {},
   "source": [
    "На сколько сигм (средних квадратичных отклонений) отклоняется рост человека, равный 190 см, от математического ожидания роста в популяции, в которой M(X) = 178 см и D(X) = 25 кв.см?"
   ]
  },
  {
   "cell_type": "markdown",
   "id": "8799f39b-cd54-4050-aa58-2d18d2f0f39c",
   "metadata": {},
   "source": [
    "Здесь сначала стоит перевести дисперсию в среднее квадратическое отклонение (вычислить корень):"
   ]
  },
  {
   "cell_type": "code",
   "execution_count": 14,
   "id": "253ae84e-a685-4a16-b4d9-022e9b9f81c3",
   "metadata": {},
   "outputs": [],
   "source": [
    "Dx = 25\n",
    "Mx = 178\n",
    "x = 190"
   ]
  },
  {
   "cell_type": "code",
   "execution_count": 15,
   "id": "ea9a57a3-640d-464e-b9a9-c36810d86fc6",
   "metadata": {},
   "outputs": [],
   "source": [
    "stdx = np.sqrt(Dx)"
   ]
  },
  {
   "cell_type": "markdown",
   "id": "b57552cb-4171-4413-b2cd-989b806cf928",
   "metadata": {},
   "source": [
    "И теперь вычислить z-значение, которое и будет ответом:"
   ]
  },
  {
   "cell_type": "code",
   "execution_count": 16,
   "id": "9781b702-58ff-444f-b2fb-64e7c5e33a1e",
   "metadata": {},
   "outputs": [
    {
     "data": {
      "text/plain": [
       "2.4"
      ]
     },
     "execution_count": 16,
     "metadata": {},
     "output_type": "execute_result"
    }
   ],
   "source": [
    "standart_scaler(x, Mx, stdx)"
   ]
  }
 ],
 "metadata": {
  "kernelspec": {
   "display_name": "Python 3 (ipykernel)",
   "language": "python",
   "name": "python3"
  },
  "language_info": {
   "codemirror_mode": {
    "name": "ipython",
    "version": 3
   },
   "file_extension": ".py",
   "mimetype": "text/x-python",
   "name": "python",
   "nbconvert_exporter": "python",
   "pygments_lexer": "ipython3",
   "version": "3.9.12"
  }
 },
 "nbformat": 4,
 "nbformat_minor": 5
}
