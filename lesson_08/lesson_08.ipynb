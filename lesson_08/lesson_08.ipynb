{
 "cells": [
  {
   "cell_type": "markdown",
   "id": "bb9e8f27-5ee1-411c-be60-f2a7afedc97a",
   "metadata": {},
   "source": [
    "## Урок 8. Корреляционный анализ"
   ]
  },
  {
   "cell_type": "code",
   "execution_count": 1,
   "id": "bbe00d4b-315a-4a56-bc33-64b614537868",
   "metadata": {},
   "outputs": [],
   "source": [
    "import numpy as np\n",
    "from scipy.stats import t as t_stat"
   ]
  },
  {
   "cell_type": "markdown",
   "id": "77ffd600-b87e-431d-b8f0-ecf9e089d148",
   "metadata": {
    "tags": []
   },
   "source": [
    "### Задача 01."
   ]
  },
  {
   "cell_type": "markdown",
   "id": "065e25fb-c44e-48d9-af09-b61cec9ae42b",
   "metadata": {
    "tags": []
   },
   "source": [
    "Даны значения величины заработной платы заемщиков банка (zp) и значения их поведенческого кредитного скоринга (ks):\n",
    "- zp = [35, 45, 190, 200, 40, 70, 54, 150, 120, 110],\n",
    "- ks = [401, 574, 874, 919, 459, 739, 653, 902, 746, 832].\n",
    "\n",
    "Найдите ковариацию этих двух величин с помощью элементарных действий, а затем с помощью функции cov из numpy. Полученные значения должны быть равны.\n",
    "\n",
    "Найдите коэффициент корреляции Пирсона с помощью ковариации и среднеквадратичных отклонений двух признаков, а затем с использованием функций из библиотек numpy и pandas."
   ]
  },
  {
   "cell_type": "markdown",
   "id": "4ec80d64-0bcb-45d7-a74b-6d281bad9d99",
   "metadata": {},
   "source": [
    "Формула ковариации:\n",
    "\n",
    "$\\displaystyle cov_{xy} = M(xy) - M(x) \\cdot M(y)$"
   ]
  },
  {
   "cell_type": "code",
   "execution_count": 2,
   "id": "28466e7b-781c-4332-a238-f720846bcf93",
   "metadata": {},
   "outputs": [],
   "source": [
    "zp = np.array([35, 45, 190, 200, 40, 70, 54, 150, 120, 110])\n",
    "ks = np.array([401, 574, 874, 919, 459, 739, 653, 902, 746, 832])"
   ]
  },
  {
   "cell_type": "code",
   "execution_count": 3,
   "id": "0d326593-0c36-418a-a2ca-4e9904355c72",
   "metadata": {},
   "outputs": [],
   "source": [
    "Mxy = (zp * ks).mean()\n",
    "Mx = zp.mean()\n",
    "My = ks.mean()"
   ]
  },
  {
   "cell_type": "code",
   "execution_count": 4,
   "id": "3f3134c4-b8c2-4405-891e-8c7e576550a2",
   "metadata": {},
   "outputs": [
    {
     "data": {
      "text/plain": [
       "9157.839999999997"
      ]
     },
     "execution_count": 4,
     "metadata": {},
     "output_type": "execute_result"
    }
   ],
   "source": [
    "cov = Mxy - Mx * My\n",
    "cov"
   ]
  },
  {
   "cell_type": "code",
   "execution_count": 5,
   "id": "7b4dfc00-8b50-4c86-940a-80c2cccbee8f",
   "metadata": {},
   "outputs": [
    {
     "data": {
      "text/plain": [
       "array([[ 3494.64,  9157.84],\n",
       "       [ 9157.84, 30468.89]])"
      ]
     },
     "execution_count": 5,
     "metadata": {},
     "output_type": "execute_result"
    }
   ],
   "source": [
    "np.cov(zp, ks, ddof=0)"
   ]
  },
  {
   "cell_type": "markdown",
   "id": "083b400f-63e6-410c-9118-f63f697a4f69",
   "metadata": {},
   "source": [
    "Коэффициент корреляции Пирсона определяется по формуле:\n",
    "\n",
    "$\\displaystyle r = \\frac{cov_{xy}}{\\sigma_x \\cdot \\sigma_y}$\n",
    "\n",
    "Значение смещенной ковариации у нас уже есть, найдем сигмы:"
   ]
  },
  {
   "cell_type": "code",
   "execution_count": 6,
   "id": "bd57324a-a67e-4d68-b9c1-d5381b03028e",
   "metadata": {},
   "outputs": [],
   "source": [
    "sigma_x = np.sqrt(zp.var(ddof=0))\n",
    "sigma_y = np.sqrt(ks.var(ddof=0))"
   ]
  },
  {
   "cell_type": "markdown",
   "id": "efc576f9-ad65-410f-9ebe-b79d1eb640f0",
   "metadata": {},
   "source": [
    "И соберем это в формулу:"
   ]
  },
  {
   "cell_type": "code",
   "execution_count": 7,
   "id": "c3ab2565-f59c-4e7a-b354-fbddc7ec67a6",
   "metadata": {},
   "outputs": [
    {
     "data": {
      "text/plain": [
       "0.8874900920739158"
      ]
     },
     "execution_count": 7,
     "metadata": {},
     "output_type": "execute_result"
    }
   ],
   "source": [
    "cov / (sigma_x * sigma_y)"
   ]
  },
  {
   "cell_type": "code",
   "execution_count": 8,
   "id": "2bb2e8af-821f-4ba3-9e12-6bebf335e4b8",
   "metadata": {},
   "outputs": [
    {
     "data": {
      "text/plain": [
       "array([[1.        , 0.88749009],\n",
       "       [0.88749009, 1.        ]])"
      ]
     },
     "execution_count": 8,
     "metadata": {},
     "output_type": "execute_result"
    }
   ],
   "source": [
    "np.corrcoef(zp, ks)"
   ]
  },
  {
   "cell_type": "markdown",
   "id": "75122617-4f37-41d3-9968-dcf7e7b64e7c",
   "metadata": {},
   "source": [
    "### Задача 2."
   ]
  },
  {
   "cell_type": "markdown",
   "id": "1fb8cc76-9467-4b72-824e-9377b02aa37c",
   "metadata": {},
   "source": [
    "Измерены значения IQ выборки студентов, обучающихся в местных технических вузах:\n",
    "\n",
    "- 131, 125, 115, 122, 131, 115, 107, 99, 125, 111.\n",
    "\n",
    "Известно, что в генеральной совокупности IQ распределен нормально.\n",
    "\n",
    "Найдите доверительный интервал для математического ожидания с надежностью 0.95."
   ]
  },
  {
   "cell_type": "markdown",
   "id": "1a332781-3e3d-4f4e-87f0-70d35c677931",
   "metadata": {},
   "source": [
    "Чтобы найти доверительный интервал, в данном случае, воспользуемся t-статистикой, т.к. признак распределен нормально, но количество наблюдений невелико:\n",
    "\n",
    "$\\displaystyle \\overline{X} \\pm t_{\\frac{\\alpha}{2}} \\cdot \\frac{\\sigma}{\\sqrt n}$\n",
    "\n",
    "Так же, по условию задачи, принимаем $\\alpha = 0.05$"
   ]
  },
  {
   "cell_type": "code",
   "execution_count": 9,
   "id": "990a649d-d0f5-461b-8db6-0452bec604cb",
   "metadata": {},
   "outputs": [],
   "source": [
    "x = np.array([131, 125, 115, 122, 131, 115, 107, 99, 125, 111])\n",
    "alpha = 0.05\n",
    "\n",
    "n = x.shape[0]\n",
    "ddof = 1\n",
    "sigma = np.sqrt(x.var(ddof=ddof))\n",
    "t = t_stat.ppf(alpha/2, df=n-ddof)\n",
    "\n",
    "avg_x = x.mean()"
   ]
  },
  {
   "cell_type": "code",
   "execution_count": 10,
   "id": "4aced24b-a2f9-4c69-9367-c93c0155ed21",
   "metadata": {},
   "outputs": [
    {
     "data": {
      "text/plain": [
       "(110.55608365158724, 118.1, 125.64391634841274)"
      ]
     },
     "execution_count": 10,
     "metadata": {},
     "output_type": "execute_result"
    }
   ],
   "source": [
    "critical_1 = avg_x + t * (sigma / np.sqrt(n))\n",
    "critical_2 = avg_x - t * (sigma / np.sqrt(n))\n",
    "\n",
    "critical_1, avg_x, critical_2"
   ]
  },
  {
   "cell_type": "markdown",
   "id": "370d93ce-0a0a-4856-8d71-f74233274c7d",
   "metadata": {},
   "source": [
    "### Задача 3."
   ]
  },
  {
   "cell_type": "markdown",
   "id": "104893a3-1d6c-4694-9964-a16a4ee559c6",
   "metadata": {},
   "source": [
    "Известно, что рост футболистов в сборной распределен нормально с дисперсией генеральной совокупности, равной 25 кв.см. Объем выборки равен 27, среднее выборочное составляет 174.2. Найдите доверительный интервал для математического ожидания с надежностью 0.95."
   ]
  },
  {
   "cell_type": "markdown",
   "id": "4b7cbc4a-e64b-43df-81a5-36a56371e6ab",
   "metadata": {},
   "source": [
    "Похожая на предыдущую задача, CI будет построен по той же формуле, но вычислить другие составляющие будет проще"
   ]
  },
  {
   "cell_type": "code",
   "execution_count": 11,
   "id": "b72cce00-a464-4ca7-b7c8-77ec6e4c3ec8",
   "metadata": {},
   "outputs": [],
   "source": [
    "D = 25\n",
    "alpha = 0.05\n",
    "avg_x = 174.2\n",
    "n = 27"
   ]
  },
  {
   "cell_type": "code",
   "execution_count": 12,
   "id": "fdc30966-f8af-4c36-8c19-2780e86496d8",
   "metadata": {},
   "outputs": [],
   "source": [
    "sigma = np.sqrt(D)\n",
    "ddof = 1\n",
    "t = t_stat.ppf(alpha/2, df=n - ddof)"
   ]
  },
  {
   "cell_type": "code",
   "execution_count": 13,
   "id": "db980f35-ea31-43fe-9b42-6a4dd509d829",
   "metadata": {},
   "outputs": [
    {
     "data": {
      "text/plain": [
       "(172.2220658754539, 174.2, 176.17793412454608)"
      ]
     },
     "execution_count": 13,
     "metadata": {},
     "output_type": "execute_result"
    }
   ],
   "source": [
    "critical_1 = avg_x + t * (sigma / np.sqrt(n))\n",
    "critical_2 = avg_x - t * (sigma / np.sqrt(n))\n",
    "\n",
    "critical_1, avg_x, critical_2"
   ]
  }
 ],
 "metadata": {
  "kernelspec": {
   "display_name": "Python 3 (ipykernel)",
   "language": "python",
   "name": "python3"
  },
  "language_info": {
   "codemirror_mode": {
    "name": "ipython",
    "version": 3
   },
   "file_extension": ".py",
   "mimetype": "text/x-python",
   "name": "python",
   "nbconvert_exporter": "python",
   "pygments_lexer": "ipython3",
   "version": "3.9.1"
  }
 },
 "nbformat": 4,
 "nbformat_minor": 5
}
